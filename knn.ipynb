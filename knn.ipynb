{
  "nbformat": 4,
  "nbformat_minor": 0,
  "metadata": {
    "colab": {
      "name": "knn.ipynb",
      "provenance": [],
      "collapsed_sections": [],
      "authorship_tag": "ABX9TyNdTPEb6qL1g0A1XlKlo2iT",
      "include_colab_link": true
    },
    "kernelspec": {
      "name": "python3",
      "display_name": "Python 3.7.9 64-bit"
    },
    "language_info": {
      "name": "python",
      "version": "3.7.9"
    },
    "interpreter": {
      "hash": "8df0d3923e2e4471c25e980cfaf5b5b241e656e35e401ac7b54d77cab677c7d6"
    }
  },
  "cells": [
    {
      "cell_type": "markdown",
      "metadata": {
        "id": "view-in-github",
        "colab_type": "text"
      },
      "source": [
        "<a href=\"https://colab.research.google.com/github/bagastri07/k-nearest-neighbor/blob/main/knn.ipynb\" target=\"_parent\"><img src=\"https://colab.research.google.com/assets/colab-badge.svg\" alt=\"Open In Colab\"/></a>"
      ]
    },
    {
      "cell_type": "markdown",
      "metadata": {
        "id": "uxWm9Ly1_dUC"
      },
      "source": [
        "# **K-Nearest Neighboor Task**\n",
        "\n",
        "Written by **Bagas Tri Wibowo**, from Class **IF-43-04**, with Student Number **1301194051**"
      ]
    },
    {
      "cell_type": "markdown",
      "metadata": {
        "id": "UUdeDQ4KAyZq"
      },
      "source": [
        "### **Import Library**"
      ]
    },
    {
      "cell_type": "code",
      "metadata": {
        "id": "9sIYkC9h_aNg"
      },
      "source": [
        "import sys\n",
        "import pandas as pd\n",
        "import numpy as np\n",
        "import math\n",
        "import matplotlib.pyplot as plt\n",
        "import seaborn as sns\n",
        "import copy\n",
        "import operator"
      ],
      "execution_count": 1,
      "outputs": []
    },
    {
      "cell_type": "markdown",
      "metadata": {
        "id": "ySsJ2gF1BG-s"
      },
      "source": [
        "\n",
        "### **Import Excel FIle**"
      ]
    },
    {
      "cell_type": "code",
      "metadata": {
        "colab": {
          "base_uri": "https://localhost:8080/",
          "height": 582
        },
        "id": "pVi-cEt5BDF2",
        "outputId": "c5f09494-f0d6-4cb0-c80c-f7ca9cdfc820"
      },
      "source": [
        "df_car = pd.read_excel('mobil.xls')\n",
        "pd.set_option('display.max_rows', None)\n",
        "df_car"
      ],
      "execution_count": 2,
      "outputs": [
        {
          "output_type": "execute_result",
          "data": {
            "text/plain": [
              "              Nama Mobil  Ukuran  Kenyamanan  Irit  Kecepatan  \\\n",
              "0            Toyota Agya       4           4     9          6   \n",
              "1          Daihatsu Alya       4           3     9          6   \n",
              "2          Toyota Avanza       6           5     6          6   \n",
              "3         Daihatsu Xenia       6           4     6          6   \n",
              "4                Xpander       7           7     6          7   \n",
              "5                 Livina       7           7     6          7   \n",
              "6                Karimun       3           4    10          5   \n",
              "7          Toyota Innova       8           8     5          7   \n",
              "8                Alphard       9          10     4          8   \n",
              "9            Toyota Vios       5           7     9          8   \n",
              "10            Honda City       5           8     7          8   \n",
              "11          Toyota Hiace      10           5     8          6   \n",
              "12       Toyota Fortuner       9           8     5          8   \n",
              "13           Toyota Foxy       9           9     5          7   \n",
              "14  Toyota Corolla Altis       5           9     7          9   \n",
              "15         Suzuki Ertiga       7           7     7          7   \n",
              "16          Suzuki Carry       7           3     9          5   \n",
              "\n",
              "    Harga (Ratus Juta)  \n",
              "0                 1.00  \n",
              "1                 1.10  \n",
              "2                 2.00  \n",
              "3                 1.75  \n",
              "4                 2.25  \n",
              "5                 2.10  \n",
              "6                 1.20  \n",
              "7                 4.00  \n",
              "8                10.00  \n",
              "9                 2.50  \n",
              "10                2.70  \n",
              "11                5.00  \n",
              "12                5.00  \n",
              "13                5.50  \n",
              "14                6.00  \n",
              "15                2.30  \n",
              "16                0.80  "
            ],
            "text/html": "<div>\n<style scoped>\n    .dataframe tbody tr th:only-of-type {\n        vertical-align: middle;\n    }\n\n    .dataframe tbody tr th {\n        vertical-align: top;\n    }\n\n    .dataframe thead th {\n        text-align: right;\n    }\n</style>\n<table border=\"1\" class=\"dataframe\">\n  <thead>\n    <tr style=\"text-align: right;\">\n      <th></th>\n      <th>Nama Mobil</th>\n      <th>Ukuran</th>\n      <th>Kenyamanan</th>\n      <th>Irit</th>\n      <th>Kecepatan</th>\n      <th>Harga (Ratus Juta)</th>\n    </tr>\n  </thead>\n  <tbody>\n    <tr>\n      <th>0</th>\n      <td>Toyota Agya</td>\n      <td>4</td>\n      <td>4</td>\n      <td>9</td>\n      <td>6</td>\n      <td>1.00</td>\n    </tr>\n    <tr>\n      <th>1</th>\n      <td>Daihatsu Alya</td>\n      <td>4</td>\n      <td>3</td>\n      <td>9</td>\n      <td>6</td>\n      <td>1.10</td>\n    </tr>\n    <tr>\n      <th>2</th>\n      <td>Toyota Avanza</td>\n      <td>6</td>\n      <td>5</td>\n      <td>6</td>\n      <td>6</td>\n      <td>2.00</td>\n    </tr>\n    <tr>\n      <th>3</th>\n      <td>Daihatsu Xenia</td>\n      <td>6</td>\n      <td>4</td>\n      <td>6</td>\n      <td>6</td>\n      <td>1.75</td>\n    </tr>\n    <tr>\n      <th>4</th>\n      <td>Xpander</td>\n      <td>7</td>\n      <td>7</td>\n      <td>6</td>\n      <td>7</td>\n      <td>2.25</td>\n    </tr>\n    <tr>\n      <th>5</th>\n      <td>Livina</td>\n      <td>7</td>\n      <td>7</td>\n      <td>6</td>\n      <td>7</td>\n      <td>2.10</td>\n    </tr>\n    <tr>\n      <th>6</th>\n      <td>Karimun</td>\n      <td>3</td>\n      <td>4</td>\n      <td>10</td>\n      <td>5</td>\n      <td>1.20</td>\n    </tr>\n    <tr>\n      <th>7</th>\n      <td>Toyota Innova</td>\n      <td>8</td>\n      <td>8</td>\n      <td>5</td>\n      <td>7</td>\n      <td>4.00</td>\n    </tr>\n    <tr>\n      <th>8</th>\n      <td>Alphard</td>\n      <td>9</td>\n      <td>10</td>\n      <td>4</td>\n      <td>8</td>\n      <td>10.00</td>\n    </tr>\n    <tr>\n      <th>9</th>\n      <td>Toyota Vios</td>\n      <td>5</td>\n      <td>7</td>\n      <td>9</td>\n      <td>8</td>\n      <td>2.50</td>\n    </tr>\n    <tr>\n      <th>10</th>\n      <td>Honda City</td>\n      <td>5</td>\n      <td>8</td>\n      <td>7</td>\n      <td>8</td>\n      <td>2.70</td>\n    </tr>\n    <tr>\n      <th>11</th>\n      <td>Toyota Hiace</td>\n      <td>10</td>\n      <td>5</td>\n      <td>8</td>\n      <td>6</td>\n      <td>5.00</td>\n    </tr>\n    <tr>\n      <th>12</th>\n      <td>Toyota Fortuner</td>\n      <td>9</td>\n      <td>8</td>\n      <td>5</td>\n      <td>8</td>\n      <td>5.00</td>\n    </tr>\n    <tr>\n      <th>13</th>\n      <td>Toyota Foxy</td>\n      <td>9</td>\n      <td>9</td>\n      <td>5</td>\n      <td>7</td>\n      <td>5.50</td>\n    </tr>\n    <tr>\n      <th>14</th>\n      <td>Toyota Corolla Altis</td>\n      <td>5</td>\n      <td>9</td>\n      <td>7</td>\n      <td>9</td>\n      <td>6.00</td>\n    </tr>\n    <tr>\n      <th>15</th>\n      <td>Suzuki Ertiga</td>\n      <td>7</td>\n      <td>7</td>\n      <td>7</td>\n      <td>7</td>\n      <td>2.30</td>\n    </tr>\n    <tr>\n      <th>16</th>\n      <td>Suzuki Carry</td>\n      <td>7</td>\n      <td>3</td>\n      <td>9</td>\n      <td>5</td>\n      <td>0.80</td>\n    </tr>\n  </tbody>\n</table>\n</div>"
          },
          "metadata": {},
          "execution_count": 2
        }
      ]
    },
    {
      "cell_type": "markdown",
      "metadata": {
        "id": "k3uHqqsRtZXU"
      },
      "source": [
        "\n",
        "### **Delete Name Coloumn**"
      ]
    },
    {
      "cell_type": "code",
      "metadata": {
        "colab": {
          "base_uri": "https://localhost:8080/",
          "height": 582
        },
        "id": "Fqh3ZUUUtScr",
        "outputId": "b35b7144-1bd1-439d-d78b-d9dbe282f40f"
      },
      "source": [
        "df_car_new = df_car.drop(columns=['Nama Mobil'])\n",
        "df_car_new"
      ],
      "execution_count": 3,
      "outputs": [
        {
          "output_type": "execute_result",
          "data": {
            "text/plain": [
              "    Ukuran  Kenyamanan  Irit  Kecepatan  Harga (Ratus Juta)\n",
              "0        4           4     9          6                1.00\n",
              "1        4           3     9          6                1.10\n",
              "2        6           5     6          6                2.00\n",
              "3        6           4     6          6                1.75\n",
              "4        7           7     6          7                2.25\n",
              "5        7           7     6          7                2.10\n",
              "6        3           4    10          5                1.20\n",
              "7        8           8     5          7                4.00\n",
              "8        9          10     4          8               10.00\n",
              "9        5           7     9          8                2.50\n",
              "10       5           8     7          8                2.70\n",
              "11      10           5     8          6                5.00\n",
              "12       9           8     5          8                5.00\n",
              "13       9           9     5          7                5.50\n",
              "14       5           9     7          9                6.00\n",
              "15       7           7     7          7                2.30\n",
              "16       7           3     9          5                0.80"
            ],
            "text/html": "<div>\n<style scoped>\n    .dataframe tbody tr th:only-of-type {\n        vertical-align: middle;\n    }\n\n    .dataframe tbody tr th {\n        vertical-align: top;\n    }\n\n    .dataframe thead th {\n        text-align: right;\n    }\n</style>\n<table border=\"1\" class=\"dataframe\">\n  <thead>\n    <tr style=\"text-align: right;\">\n      <th></th>\n      <th>Ukuran</th>\n      <th>Kenyamanan</th>\n      <th>Irit</th>\n      <th>Kecepatan</th>\n      <th>Harga (Ratus Juta)</th>\n    </tr>\n  </thead>\n  <tbody>\n    <tr>\n      <th>0</th>\n      <td>4</td>\n      <td>4</td>\n      <td>9</td>\n      <td>6</td>\n      <td>1.00</td>\n    </tr>\n    <tr>\n      <th>1</th>\n      <td>4</td>\n      <td>3</td>\n      <td>9</td>\n      <td>6</td>\n      <td>1.10</td>\n    </tr>\n    <tr>\n      <th>2</th>\n      <td>6</td>\n      <td>5</td>\n      <td>6</td>\n      <td>6</td>\n      <td>2.00</td>\n    </tr>\n    <tr>\n      <th>3</th>\n      <td>6</td>\n      <td>4</td>\n      <td>6</td>\n      <td>6</td>\n      <td>1.75</td>\n    </tr>\n    <tr>\n      <th>4</th>\n      <td>7</td>\n      <td>7</td>\n      <td>6</td>\n      <td>7</td>\n      <td>2.25</td>\n    </tr>\n    <tr>\n      <th>5</th>\n      <td>7</td>\n      <td>7</td>\n      <td>6</td>\n      <td>7</td>\n      <td>2.10</td>\n    </tr>\n    <tr>\n      <th>6</th>\n      <td>3</td>\n      <td>4</td>\n      <td>10</td>\n      <td>5</td>\n      <td>1.20</td>\n    </tr>\n    <tr>\n      <th>7</th>\n      <td>8</td>\n      <td>8</td>\n      <td>5</td>\n      <td>7</td>\n      <td>4.00</td>\n    </tr>\n    <tr>\n      <th>8</th>\n      <td>9</td>\n      <td>10</td>\n      <td>4</td>\n      <td>8</td>\n      <td>10.00</td>\n    </tr>\n    <tr>\n      <th>9</th>\n      <td>5</td>\n      <td>7</td>\n      <td>9</td>\n      <td>8</td>\n      <td>2.50</td>\n    </tr>\n    <tr>\n      <th>10</th>\n      <td>5</td>\n      <td>8</td>\n      <td>7</td>\n      <td>8</td>\n      <td>2.70</td>\n    </tr>\n    <tr>\n      <th>11</th>\n      <td>10</td>\n      <td>5</td>\n      <td>8</td>\n      <td>6</td>\n      <td>5.00</td>\n    </tr>\n    <tr>\n      <th>12</th>\n      <td>9</td>\n      <td>8</td>\n      <td>5</td>\n      <td>8</td>\n      <td>5.00</td>\n    </tr>\n    <tr>\n      <th>13</th>\n      <td>9</td>\n      <td>9</td>\n      <td>5</td>\n      <td>7</td>\n      <td>5.50</td>\n    </tr>\n    <tr>\n      <th>14</th>\n      <td>5</td>\n      <td>9</td>\n      <td>7</td>\n      <td>9</td>\n      <td>6.00</td>\n    </tr>\n    <tr>\n      <th>15</th>\n      <td>7</td>\n      <td>7</td>\n      <td>7</td>\n      <td>7</td>\n      <td>2.30</td>\n    </tr>\n    <tr>\n      <th>16</th>\n      <td>7</td>\n      <td>3</td>\n      <td>9</td>\n      <td>5</td>\n      <td>0.80</td>\n    </tr>\n  </tbody>\n</table>\n</div>"
          },
          "metadata": {},
          "execution_count": 3
        }
      ]
    },
    {
      "cell_type": "markdown",
      "metadata": {
        "id": "7PKOqOQbB9dA"
      },
      "source": [
        "\n",
        "### **Statitistic of Each Data**"
      ]
    },
    {
      "cell_type": "code",
      "metadata": {
        "colab": {
          "base_uri": "https://localhost:8080/",
          "height": 206
        },
        "id": "JKY99l0ZB-l5",
        "outputId": "1dfb16ae-780c-4bde-8667-bdec159cf5ae"
      },
      "source": [
        "df_car.describe().T"
      ],
      "execution_count": 4,
      "outputs": [
        {
          "output_type": "execute_result",
          "data": {
            "text/plain": [
              "                    count      mean       std  min   25%  50%  75%   max\n",
              "Ukuran               17.0  6.529412  2.034627  3.0  5.00  7.0  8.0  10.0\n",
              "Kenyamanan           17.0  6.352941  2.234423  3.0  4.00  7.0  8.0  10.0\n",
              "Irit                 17.0  6.941176  1.784327  4.0  6.00  7.0  9.0  10.0\n",
              "Kecepatan            17.0  6.823529  1.131111  5.0  6.00  7.0  8.0   9.0\n",
              "Harga (Ratus Juta)   17.0  3.247059  2.406597  0.8  1.75  2.3  5.0  10.0"
            ],
            "text/html": "<div>\n<style scoped>\n    .dataframe tbody tr th:only-of-type {\n        vertical-align: middle;\n    }\n\n    .dataframe tbody tr th {\n        vertical-align: top;\n    }\n\n    .dataframe thead th {\n        text-align: right;\n    }\n</style>\n<table border=\"1\" class=\"dataframe\">\n  <thead>\n    <tr style=\"text-align: right;\">\n      <th></th>\n      <th>count</th>\n      <th>mean</th>\n      <th>std</th>\n      <th>min</th>\n      <th>25%</th>\n      <th>50%</th>\n      <th>75%</th>\n      <th>max</th>\n    </tr>\n  </thead>\n  <tbody>\n    <tr>\n      <th>Ukuran</th>\n      <td>17.0</td>\n      <td>6.529412</td>\n      <td>2.034627</td>\n      <td>3.0</td>\n      <td>5.00</td>\n      <td>7.0</td>\n      <td>8.0</td>\n      <td>10.0</td>\n    </tr>\n    <tr>\n      <th>Kenyamanan</th>\n      <td>17.0</td>\n      <td>6.352941</td>\n      <td>2.234423</td>\n      <td>3.0</td>\n      <td>4.00</td>\n      <td>7.0</td>\n      <td>8.0</td>\n      <td>10.0</td>\n    </tr>\n    <tr>\n      <th>Irit</th>\n      <td>17.0</td>\n      <td>6.941176</td>\n      <td>1.784327</td>\n      <td>4.0</td>\n      <td>6.00</td>\n      <td>7.0</td>\n      <td>9.0</td>\n      <td>10.0</td>\n    </tr>\n    <tr>\n      <th>Kecepatan</th>\n      <td>17.0</td>\n      <td>6.823529</td>\n      <td>1.131111</td>\n      <td>5.0</td>\n      <td>6.00</td>\n      <td>7.0</td>\n      <td>8.0</td>\n      <td>9.0</td>\n    </tr>\n    <tr>\n      <th>Harga (Ratus Juta)</th>\n      <td>17.0</td>\n      <td>3.247059</td>\n      <td>2.406597</td>\n      <td>0.8</td>\n      <td>1.75</td>\n      <td>2.3</td>\n      <td>5.0</td>\n      <td>10.0</td>\n    </tr>\n  </tbody>\n</table>\n</div>"
          },
          "metadata": {},
          "execution_count": 4
        }
      ]
    },
    {
      "cell_type": "markdown",
      "metadata": {
        "id": "0wnhnGVOCMsz"
      },
      "source": [
        "### **Data Proccesing**\n",
        "#### **Data Cleaning**\n",
        "##### **For check if there missing value**"
      ]
    },
    {
      "cell_type": "code",
      "metadata": {
        "colab": {
          "base_uri": "https://localhost:8080/"
        },
        "id": "7dPre_9PCjWm",
        "outputId": "6db1be0e-f778-44f8-fe6c-2e865205d6f3"
      },
      "source": [
        "df_car.isna().sum()"
      ],
      "execution_count": 5,
      "outputs": [
        {
          "output_type": "execute_result",
          "data": {
            "text/plain": [
              "Nama Mobil            0\n",
              "Ukuran                0\n",
              "Kenyamanan            0\n",
              "Irit                  0\n",
              "Kecepatan             0\n",
              "Harga (Ratus Juta)    0\n",
              "dtype: int64"
            ]
          },
          "metadata": {},
          "execution_count": 5
        }
      ]
    },
    {
      "cell_type": "code",
      "metadata": {
        "colab": {
          "base_uri": "https://localhost:8080/",
          "height": 36
        },
        "id": "J62fb0R9Di8B",
        "outputId": "349109d0-6b7b-4da9-e56d-f6909318c7a7"
      },
      "source": [
        "'''\n",
        "Uncomment the code below if there are missing values\n",
        "'''\n",
        "# df_car = df_car.apply(lambda x: x.fillna(x.mean()),axis=0)"
      ],
      "execution_count": 6,
      "outputs": [
        {
          "output_type": "execute_result",
          "data": {
            "text/plain": [
              "'\\nUncomment the code below if there are missing values\\n'"
            ]
          },
          "metadata": {},
          "execution_count": 6
        }
      ]
    },
    {
      "cell_type": "markdown",
      "metadata": {
        "id": "FA5lFjBrDE7-"
      },
      "source": [
        "##### **Check for Duplicates**"
      ]
    },
    {
      "cell_type": "code",
      "metadata": {
        "colab": {
          "base_uri": "https://localhost:8080/"
        },
        "id": "ZzCdr5YDDssa",
        "outputId": "ecbb4ee6-4c29-411f-91da-123e19341b24"
      },
      "source": [
        "df_car.duplicated().sum()"
      ],
      "execution_count": 7,
      "outputs": [
        {
          "output_type": "execute_result",
          "data": {
            "text/plain": [
              "0"
            ]
          },
          "metadata": {},
          "execution_count": 7
        }
      ]
    },
    {
      "cell_type": "markdown",
      "metadata": {
        "id": "-GJKcZLDD4fj"
      },
      "source": [
        "##### **Check for Outliers With Boxplot**"
      ]
    },
    {
      "cell_type": "code",
      "metadata": {
        "colab": {
          "base_uri": "https://localhost:8080/",
          "height": 863
        },
        "id": "M8oGJrubD-tl",
        "outputId": "3bc5174b-9175-4536-cad1-90de44b246db"
      },
      "source": [
        "f, ax = plt.subplots(figsize=(18, 15))\n",
        "sns.boxplot(data=(df_car))\n",
        "plt.show()"
      ],
      "execution_count": 8,
      "outputs": [
        {
          "output_type": "display_data",
          "data": {
            "text/plain": "<Figure size 1296x1080 with 1 Axes>",
            "image/svg+xml": "<?xml version=\"1.0\" encoding=\"utf-8\" standalone=\"no\"?>\r\n<!DOCTYPE svg PUBLIC \"-//W3C//DTD SVG 1.1//EN\"\r\n  \"http://www.w3.org/Graphics/SVG/1.1/DTD/svg11.dtd\">\r\n<svg height=\"846.478125pt\" version=\"1.1\" viewBox=\"0 0 1038.525 846.478125\" width=\"1038.525pt\" xmlns=\"http://www.w3.org/2000/svg\" xmlns:xlink=\"http://www.w3.org/1999/xlink\">\r\n <metadata>\r\n  <rdf:RDF xmlns:cc=\"http://creativecommons.org/ns#\" xmlns:dc=\"http://purl.org/dc/elements/1.1/\" xmlns:rdf=\"http://www.w3.org/1999/02/22-rdf-syntax-ns#\">\r\n   <cc:Work>\r\n    <dc:type rdf:resource=\"http://purl.org/dc/dcmitype/StillImage\"/>\r\n    <dc:date>2021-06-23T18:28:35.019310</dc:date>\r\n    <dc:format>image/svg+xml</dc:format>\r\n    <dc:creator>\r\n     <cc:Agent>\r\n      <dc:title>Matplotlib v3.4.1, https://matplotlib.org/</dc:title>\r\n     </cc:Agent>\r\n    </dc:creator>\r\n   </cc:Work>\r\n  </rdf:RDF>\r\n </metadata>\r\n <defs>\r\n  <style type=\"text/css\">*{stroke-linecap:butt;stroke-linejoin:round;}</style>\r\n </defs>\r\n <g id=\"figure_1\">\r\n  <g id=\"patch_1\">\r\n   <path d=\"M 0 846.478125 \r\nL 1038.525 846.478125 \r\nL 1038.525 -0 \r\nL 0 -0 \r\nz\r\n\" style=\"fill:none;\"/>\r\n  </g>\r\n  <g id=\"axes_1\">\r\n   <g id=\"patch_2\">\r\n    <path d=\"M 26.925 822.6 \r\nL 1031.325 822.6 \r\nL 1031.325 7.2 \r\nL 26.925 7.2 \r\nz\r\n\" style=\"fill:#ffffff;\"/>\r\n   </g>\r\n   <g id=\"patch_3\">\r\n    <path clip-path=\"url(#p08f877abac)\" d=\"M 47.013 447.129249 \r\nL 207.717 447.129249 \r\nL 207.717 205.409881 \r\nL 47.013 205.409881 \r\nL 47.013 447.129249 \r\nz\r\n\" style=\"fill:#3274a1;stroke:#3d3d3d;stroke-linejoin:miter;stroke-width:1.5;\"/>\r\n   </g>\r\n   <g id=\"patch_4\">\r\n    <path clip-path=\"url(#p08f877abac)\" d=\"M 247.893 527.702372 \r\nL 408.597 527.702372 \r\nL 408.597 205.409881 \r\nL 247.893 205.409881 \r\nL 247.893 527.702372 \r\nz\r\n\" style=\"fill:#e1812c;stroke:#3d3d3d;stroke-linejoin:miter;stroke-width:1.5;\"/>\r\n   </g>\r\n   <g id=\"patch_5\">\r\n    <path clip-path=\"url(#p08f877abac)\" d=\"M 448.773 366.556126 \r\nL 609.477 366.556126 \r\nL 609.477 124.836759 \r\nL 448.773 124.836759 \r\nL 448.773 366.556126 \r\nz\r\n\" style=\"fill:#3a923a;stroke:#3d3d3d;stroke-linejoin:miter;stroke-width:1.5;\"/>\r\n   </g>\r\n   <g id=\"patch_6\">\r\n    <path clip-path=\"url(#p08f877abac)\" d=\"M 649.653 366.556126 \r\nL 810.357 366.556126 \r\nL 810.357 205.409881 \r\nL 649.653 205.409881 \r\nL 649.653 366.556126 \r\nz\r\n\" style=\"fill:#c03d3e;stroke:#3d3d3d;stroke-linejoin:miter;stroke-width:1.5;\"/>\r\n   </g>\r\n   <g id=\"patch_7\">\r\n    <path clip-path=\"url(#p08f877abac)\" d=\"M 850.533 708.991897 \r\nL 1011.237 708.991897 \r\nL 1011.237 447.129249 \r\nL 850.533 447.129249 \r\nL 850.533 708.991897 \r\nz\r\n\" style=\"fill:#9372b2;stroke:#3d3d3d;stroke-linejoin:miter;stroke-width:1.5;\"/>\r\n   </g>\r\n   <g id=\"matplotlib.axis_1\">\r\n    <g id=\"xtick_1\">\r\n     <g id=\"line2d_1\">\r\n      <defs>\r\n       <path d=\"M 0 0 \r\nL 0 3.5 \r\n\" id=\"mc9af79224d\" style=\"stroke:#000000;stroke-width:0.8;\"/>\r\n      </defs>\r\n      <g>\r\n       <use style=\"stroke:#000000;stroke-width:0.8;\" x=\"127.365\" xlink:href=\"#mc9af79224d\" y=\"822.6\"/>\r\n      </g>\r\n     </g>\r\n     <g id=\"text_1\">\r\n      <!-- Ukuran -->\r\n      <g transform=\"translate(109.509531 837.198437)scale(0.1 -0.1)\">\r\n       <defs>\r\n        <path d=\"M 556 4666 \r\nL 1191 4666 \r\nL 1191 1831 \r\nQ 1191 1081 1462 751 \r\nQ 1734 422 2344 422 \r\nQ 2950 422 3222 751 \r\nQ 3494 1081 3494 1831 \r\nL 3494 4666 \r\nL 4128 4666 \r\nL 4128 1753 \r\nQ 4128 841 3676 375 \r\nQ 3225 -91 2344 -91 \r\nQ 1459 -91 1007 375 \r\nQ 556 841 556 1753 \r\nL 556 4666 \r\nz\r\n\" id=\"DejaVuSans-55\" transform=\"scale(0.015625)\"/>\r\n        <path d=\"M 581 4863 \r\nL 1159 4863 \r\nL 1159 1991 \r\nL 2875 3500 \r\nL 3609 3500 \r\nL 1753 1863 \r\nL 3688 0 \r\nL 2938 0 \r\nL 1159 1709 \r\nL 1159 0 \r\nL 581 0 \r\nL 581 4863 \r\nz\r\n\" id=\"DejaVuSans-6b\" transform=\"scale(0.015625)\"/>\r\n        <path d=\"M 544 1381 \r\nL 544 3500 \r\nL 1119 3500 \r\nL 1119 1403 \r\nQ 1119 906 1312 657 \r\nQ 1506 409 1894 409 \r\nQ 2359 409 2629 706 \r\nQ 2900 1003 2900 1516 \r\nL 2900 3500 \r\nL 3475 3500 \r\nL 3475 0 \r\nL 2900 0 \r\nL 2900 538 \r\nQ 2691 219 2414 64 \r\nQ 2138 -91 1772 -91 \r\nQ 1169 -91 856 284 \r\nQ 544 659 544 1381 \r\nz\r\nM 1991 3584 \r\nL 1991 3584 \r\nz\r\n\" id=\"DejaVuSans-75\" transform=\"scale(0.015625)\"/>\r\n        <path d=\"M 2631 2963 \r\nQ 2534 3019 2420 3045 \r\nQ 2306 3072 2169 3072 \r\nQ 1681 3072 1420 2755 \r\nQ 1159 2438 1159 1844 \r\nL 1159 0 \r\nL 581 0 \r\nL 581 3500 \r\nL 1159 3500 \r\nL 1159 2956 \r\nQ 1341 3275 1631 3429 \r\nQ 1922 3584 2338 3584 \r\nQ 2397 3584 2469 3576 \r\nQ 2541 3569 2628 3553 \r\nL 2631 2963 \r\nz\r\n\" id=\"DejaVuSans-72\" transform=\"scale(0.015625)\"/>\r\n        <path d=\"M 2194 1759 \r\nQ 1497 1759 1228 1600 \r\nQ 959 1441 959 1056 \r\nQ 959 750 1161 570 \r\nQ 1363 391 1709 391 \r\nQ 2188 391 2477 730 \r\nQ 2766 1069 2766 1631 \r\nL 2766 1759 \r\nL 2194 1759 \r\nz\r\nM 3341 1997 \r\nL 3341 0 \r\nL 2766 0 \r\nL 2766 531 \r\nQ 2569 213 2275 61 \r\nQ 1981 -91 1556 -91 \r\nQ 1019 -91 701 211 \r\nQ 384 513 384 1019 \r\nQ 384 1609 779 1909 \r\nQ 1175 2209 1959 2209 \r\nL 2766 2209 \r\nL 2766 2266 \r\nQ 2766 2663 2505 2880 \r\nQ 2244 3097 1772 3097 \r\nQ 1472 3097 1187 3025 \r\nQ 903 2953 641 2809 \r\nL 641 3341 \r\nQ 956 3463 1253 3523 \r\nQ 1550 3584 1831 3584 \r\nQ 2591 3584 2966 3190 \r\nQ 3341 2797 3341 1997 \r\nz\r\n\" id=\"DejaVuSans-61\" transform=\"scale(0.015625)\"/>\r\n        <path d=\"M 3513 2113 \r\nL 3513 0 \r\nL 2938 0 \r\nL 2938 2094 \r\nQ 2938 2591 2744 2837 \r\nQ 2550 3084 2163 3084 \r\nQ 1697 3084 1428 2787 \r\nQ 1159 2491 1159 1978 \r\nL 1159 0 \r\nL 581 0 \r\nL 581 3500 \r\nL 1159 3500 \r\nL 1159 2956 \r\nQ 1366 3272 1645 3428 \r\nQ 1925 3584 2291 3584 \r\nQ 2894 3584 3203 3211 \r\nQ 3513 2838 3513 2113 \r\nz\r\n\" id=\"DejaVuSans-6e\" transform=\"scale(0.015625)\"/>\r\n       </defs>\r\n       <use xlink:href=\"#DejaVuSans-55\"/>\r\n       <use x=\"73.193359\" xlink:href=\"#DejaVuSans-6b\"/>\r\n       <use x=\"127.978516\" xlink:href=\"#DejaVuSans-75\"/>\r\n       <use x=\"191.357422\" xlink:href=\"#DejaVuSans-72\"/>\r\n       <use x=\"232.470703\" xlink:href=\"#DejaVuSans-61\"/>\r\n       <use x=\"293.75\" xlink:href=\"#DejaVuSans-6e\"/>\r\n      </g>\r\n     </g>\r\n    </g>\r\n    <g id=\"xtick_2\">\r\n     <g id=\"line2d_2\">\r\n      <g>\r\n       <use style=\"stroke:#000000;stroke-width:0.8;\" x=\"328.245\" xlink:href=\"#mc9af79224d\" y=\"822.6\"/>\r\n      </g>\r\n     </g>\r\n     <g id=\"text_2\">\r\n      <!-- Kenyamanan -->\r\n      <g transform=\"translate(295.611406 837.198437)scale(0.1 -0.1)\">\r\n       <defs>\r\n        <path d=\"M 628 4666 \r\nL 1259 4666 \r\nL 1259 2694 \r\nL 3353 4666 \r\nL 4166 4666 \r\nL 1850 2491 \r\nL 4331 0 \r\nL 3500 0 \r\nL 1259 2247 \r\nL 1259 0 \r\nL 628 0 \r\nL 628 4666 \r\nz\r\n\" id=\"DejaVuSans-4b\" transform=\"scale(0.015625)\"/>\r\n        <path d=\"M 3597 1894 \r\nL 3597 1613 \r\nL 953 1613 \r\nQ 991 1019 1311 708 \r\nQ 1631 397 2203 397 \r\nQ 2534 397 2845 478 \r\nQ 3156 559 3463 722 \r\nL 3463 178 \r\nQ 3153 47 2828 -22 \r\nQ 2503 -91 2169 -91 \r\nQ 1331 -91 842 396 \r\nQ 353 884 353 1716 \r\nQ 353 2575 817 3079 \r\nQ 1281 3584 2069 3584 \r\nQ 2775 3584 3186 3129 \r\nQ 3597 2675 3597 1894 \r\nz\r\nM 3022 2063 \r\nQ 3016 2534 2758 2815 \r\nQ 2500 3097 2075 3097 \r\nQ 1594 3097 1305 2825 \r\nQ 1016 2553 972 2059 \r\nL 3022 2063 \r\nz\r\n\" id=\"DejaVuSans-65\" transform=\"scale(0.015625)\"/>\r\n        <path d=\"M 2059 -325 \r\nQ 1816 -950 1584 -1140 \r\nQ 1353 -1331 966 -1331 \r\nL 506 -1331 \r\nL 506 -850 \r\nL 844 -850 \r\nQ 1081 -850 1212 -737 \r\nQ 1344 -625 1503 -206 \r\nL 1606 56 \r\nL 191 3500 \r\nL 800 3500 \r\nL 1894 763 \r\nL 2988 3500 \r\nL 3597 3500 \r\nL 2059 -325 \r\nz\r\n\" id=\"DejaVuSans-79\" transform=\"scale(0.015625)\"/>\r\n        <path d=\"M 3328 2828 \r\nQ 3544 3216 3844 3400 \r\nQ 4144 3584 4550 3584 \r\nQ 5097 3584 5394 3201 \r\nQ 5691 2819 5691 2113 \r\nL 5691 0 \r\nL 5113 0 \r\nL 5113 2094 \r\nQ 5113 2597 4934 2840 \r\nQ 4756 3084 4391 3084 \r\nQ 3944 3084 3684 2787 \r\nQ 3425 2491 3425 1978 \r\nL 3425 0 \r\nL 2847 0 \r\nL 2847 2094 \r\nQ 2847 2600 2669 2842 \r\nQ 2491 3084 2119 3084 \r\nQ 1678 3084 1418 2786 \r\nQ 1159 2488 1159 1978 \r\nL 1159 0 \r\nL 581 0 \r\nL 581 3500 \r\nL 1159 3500 \r\nL 1159 2956 \r\nQ 1356 3278 1631 3431 \r\nQ 1906 3584 2284 3584 \r\nQ 2666 3584 2933 3390 \r\nQ 3200 3197 3328 2828 \r\nz\r\n\" id=\"DejaVuSans-6d\" transform=\"scale(0.015625)\"/>\r\n       </defs>\r\n       <use xlink:href=\"#DejaVuSans-4b\"/>\r\n       <use x=\"60.576172\" xlink:href=\"#DejaVuSans-65\"/>\r\n       <use x=\"122.099609\" xlink:href=\"#DejaVuSans-6e\"/>\r\n       <use x=\"185.478516\" xlink:href=\"#DejaVuSans-79\"/>\r\n       <use x=\"244.658203\" xlink:href=\"#DejaVuSans-61\"/>\r\n       <use x=\"305.9375\" xlink:href=\"#DejaVuSans-6d\"/>\r\n       <use x=\"403.349609\" xlink:href=\"#DejaVuSans-61\"/>\r\n       <use x=\"464.628906\" xlink:href=\"#DejaVuSans-6e\"/>\r\n       <use x=\"528.007812\" xlink:href=\"#DejaVuSans-61\"/>\r\n       <use x=\"589.287109\" xlink:href=\"#DejaVuSans-6e\"/>\r\n      </g>\r\n     </g>\r\n    </g>\r\n    <g id=\"xtick_3\">\r\n     <g id=\"line2d_3\">\r\n      <g>\r\n       <use style=\"stroke:#000000;stroke-width:0.8;\" x=\"529.125\" xlink:href=\"#mc9af79224d\" y=\"822.6\"/>\r\n      </g>\r\n     </g>\r\n     <g id=\"text_3\">\r\n      <!-- Irit -->\r\n      <g transform=\"translate(522.245313 837.198437)scale(0.1 -0.1)\">\r\n       <defs>\r\n        <path d=\"M 628 4666 \r\nL 1259 4666 \r\nL 1259 0 \r\nL 628 0 \r\nL 628 4666 \r\nz\r\n\" id=\"DejaVuSans-49\" transform=\"scale(0.015625)\"/>\r\n        <path d=\"M 603 3500 \r\nL 1178 3500 \r\nL 1178 0 \r\nL 603 0 \r\nL 603 3500 \r\nz\r\nM 603 4863 \r\nL 1178 4863 \r\nL 1178 4134 \r\nL 603 4134 \r\nL 603 4863 \r\nz\r\n\" id=\"DejaVuSans-69\" transform=\"scale(0.015625)\"/>\r\n        <path d=\"M 1172 4494 \r\nL 1172 3500 \r\nL 2356 3500 \r\nL 2356 3053 \r\nL 1172 3053 \r\nL 1172 1153 \r\nQ 1172 725 1289 603 \r\nQ 1406 481 1766 481 \r\nL 2356 481 \r\nL 2356 0 \r\nL 1766 0 \r\nQ 1100 0 847 248 \r\nQ 594 497 594 1153 \r\nL 594 3053 \r\nL 172 3053 \r\nL 172 3500 \r\nL 594 3500 \r\nL 594 4494 \r\nL 1172 4494 \r\nz\r\n\" id=\"DejaVuSans-74\" transform=\"scale(0.015625)\"/>\r\n       </defs>\r\n       <use xlink:href=\"#DejaVuSans-49\"/>\r\n       <use x=\"29.492188\" xlink:href=\"#DejaVuSans-72\"/>\r\n       <use x=\"70.605469\" xlink:href=\"#DejaVuSans-69\"/>\r\n       <use x=\"98.388672\" xlink:href=\"#DejaVuSans-74\"/>\r\n      </g>\r\n     </g>\r\n    </g>\r\n    <g id=\"xtick_4\">\r\n     <g id=\"line2d_4\">\r\n      <g>\r\n       <use style=\"stroke:#000000;stroke-width:0.8;\" x=\"730.005\" xlink:href=\"#mc9af79224d\" y=\"822.6\"/>\r\n      </g>\r\n     </g>\r\n     <g id=\"text_4\">\r\n      <!-- Kecepatan -->\r\n      <g transform=\"translate(703.6425 837.198437)scale(0.1 -0.1)\">\r\n       <defs>\r\n        <path d=\"M 3122 3366 \r\nL 3122 2828 \r\nQ 2878 2963 2633 3030 \r\nQ 2388 3097 2138 3097 \r\nQ 1578 3097 1268 2742 \r\nQ 959 2388 959 1747 \r\nQ 959 1106 1268 751 \r\nQ 1578 397 2138 397 \r\nQ 2388 397 2633 464 \r\nQ 2878 531 3122 666 \r\nL 3122 134 \r\nQ 2881 22 2623 -34 \r\nQ 2366 -91 2075 -91 \r\nQ 1284 -91 818 406 \r\nQ 353 903 353 1747 \r\nQ 353 2603 823 3093 \r\nQ 1294 3584 2113 3584 \r\nQ 2378 3584 2631 3529 \r\nQ 2884 3475 3122 3366 \r\nz\r\n\" id=\"DejaVuSans-63\" transform=\"scale(0.015625)\"/>\r\n        <path d=\"M 1159 525 \r\nL 1159 -1331 \r\nL 581 -1331 \r\nL 581 3500 \r\nL 1159 3500 \r\nL 1159 2969 \r\nQ 1341 3281 1617 3432 \r\nQ 1894 3584 2278 3584 \r\nQ 2916 3584 3314 3078 \r\nQ 3713 2572 3713 1747 \r\nQ 3713 922 3314 415 \r\nQ 2916 -91 2278 -91 \r\nQ 1894 -91 1617 61 \r\nQ 1341 213 1159 525 \r\nz\r\nM 3116 1747 \r\nQ 3116 2381 2855 2742 \r\nQ 2594 3103 2138 3103 \r\nQ 1681 3103 1420 2742 \r\nQ 1159 2381 1159 1747 \r\nQ 1159 1113 1420 752 \r\nQ 1681 391 2138 391 \r\nQ 2594 391 2855 752 \r\nQ 3116 1113 3116 1747 \r\nz\r\n\" id=\"DejaVuSans-70\" transform=\"scale(0.015625)\"/>\r\n       </defs>\r\n       <use xlink:href=\"#DejaVuSans-4b\"/>\r\n       <use x=\"60.576172\" xlink:href=\"#DejaVuSans-65\"/>\r\n       <use x=\"122.099609\" xlink:href=\"#DejaVuSans-63\"/>\r\n       <use x=\"177.080078\" xlink:href=\"#DejaVuSans-65\"/>\r\n       <use x=\"238.603516\" xlink:href=\"#DejaVuSans-70\"/>\r\n       <use x=\"302.080078\" xlink:href=\"#DejaVuSans-61\"/>\r\n       <use x=\"363.359375\" xlink:href=\"#DejaVuSans-74\"/>\r\n       <use x=\"402.568359\" xlink:href=\"#DejaVuSans-61\"/>\r\n       <use x=\"463.847656\" xlink:href=\"#DejaVuSans-6e\"/>\r\n      </g>\r\n     </g>\r\n    </g>\r\n    <g id=\"xtick_5\">\r\n     <g id=\"line2d_5\">\r\n      <g>\r\n       <use style=\"stroke:#000000;stroke-width:0.8;\" x=\"930.885\" xlink:href=\"#mc9af79224d\" y=\"822.6\"/>\r\n      </g>\r\n     </g>\r\n     <g id=\"text_5\">\r\n      <!-- Harga (Ratus Juta) -->\r\n      <g transform=\"translate(884.9475 837.198437)scale(0.1 -0.1)\">\r\n       <defs>\r\n        <path d=\"M 628 4666 \r\nL 1259 4666 \r\nL 1259 2753 \r\nL 3553 2753 \r\nL 3553 4666 \r\nL 4184 4666 \r\nL 4184 0 \r\nL 3553 0 \r\nL 3553 2222 \r\nL 1259 2222 \r\nL 1259 0 \r\nL 628 0 \r\nL 628 4666 \r\nz\r\n\" id=\"DejaVuSans-48\" transform=\"scale(0.015625)\"/>\r\n        <path d=\"M 2906 1791 \r\nQ 2906 2416 2648 2759 \r\nQ 2391 3103 1925 3103 \r\nQ 1463 3103 1205 2759 \r\nQ 947 2416 947 1791 \r\nQ 947 1169 1205 825 \r\nQ 1463 481 1925 481 \r\nQ 2391 481 2648 825 \r\nQ 2906 1169 2906 1791 \r\nz\r\nM 3481 434 \r\nQ 3481 -459 3084 -895 \r\nQ 2688 -1331 1869 -1331 \r\nQ 1566 -1331 1297 -1286 \r\nQ 1028 -1241 775 -1147 \r\nL 775 -588 \r\nQ 1028 -725 1275 -790 \r\nQ 1522 -856 1778 -856 \r\nQ 2344 -856 2625 -561 \r\nQ 2906 -266 2906 331 \r\nL 2906 616 \r\nQ 2728 306 2450 153 \r\nQ 2172 0 1784 0 \r\nQ 1141 0 747 490 \r\nQ 353 981 353 1791 \r\nQ 353 2603 747 3093 \r\nQ 1141 3584 1784 3584 \r\nQ 2172 3584 2450 3431 \r\nQ 2728 3278 2906 2969 \r\nL 2906 3500 \r\nL 3481 3500 \r\nL 3481 434 \r\nz\r\n\" id=\"DejaVuSans-67\" transform=\"scale(0.015625)\"/>\r\n        <path id=\"DejaVuSans-20\" transform=\"scale(0.015625)\"/>\r\n        <path d=\"M 1984 4856 \r\nQ 1566 4138 1362 3434 \r\nQ 1159 2731 1159 2009 \r\nQ 1159 1288 1364 580 \r\nQ 1569 -128 1984 -844 \r\nL 1484 -844 \r\nQ 1016 -109 783 600 \r\nQ 550 1309 550 2009 \r\nQ 550 2706 781 3412 \r\nQ 1013 4119 1484 4856 \r\nL 1984 4856 \r\nz\r\n\" id=\"DejaVuSans-28\" transform=\"scale(0.015625)\"/>\r\n        <path d=\"M 2841 2188 \r\nQ 3044 2119 3236 1894 \r\nQ 3428 1669 3622 1275 \r\nL 4263 0 \r\nL 3584 0 \r\nL 2988 1197 \r\nQ 2756 1666 2539 1819 \r\nQ 2322 1972 1947 1972 \r\nL 1259 1972 \r\nL 1259 0 \r\nL 628 0 \r\nL 628 4666 \r\nL 2053 4666 \r\nQ 2853 4666 3247 4331 \r\nQ 3641 3997 3641 3322 \r\nQ 3641 2881 3436 2590 \r\nQ 3231 2300 2841 2188 \r\nz\r\nM 1259 4147 \r\nL 1259 2491 \r\nL 2053 2491 \r\nQ 2509 2491 2742 2702 \r\nQ 2975 2913 2975 3322 \r\nQ 2975 3731 2742 3939 \r\nQ 2509 4147 2053 4147 \r\nL 1259 4147 \r\nz\r\n\" id=\"DejaVuSans-52\" transform=\"scale(0.015625)\"/>\r\n        <path d=\"M 2834 3397 \r\nL 2834 2853 \r\nQ 2591 2978 2328 3040 \r\nQ 2066 3103 1784 3103 \r\nQ 1356 3103 1142 2972 \r\nQ 928 2841 928 2578 \r\nQ 928 2378 1081 2264 \r\nQ 1234 2150 1697 2047 \r\nL 1894 2003 \r\nQ 2506 1872 2764 1633 \r\nQ 3022 1394 3022 966 \r\nQ 3022 478 2636 193 \r\nQ 2250 -91 1575 -91 \r\nQ 1294 -91 989 -36 \r\nQ 684 19 347 128 \r\nL 347 722 \r\nQ 666 556 975 473 \r\nQ 1284 391 1588 391 \r\nQ 1994 391 2212 530 \r\nQ 2431 669 2431 922 \r\nQ 2431 1156 2273 1281 \r\nQ 2116 1406 1581 1522 \r\nL 1381 1569 \r\nQ 847 1681 609 1914 \r\nQ 372 2147 372 2553 \r\nQ 372 3047 722 3315 \r\nQ 1072 3584 1716 3584 \r\nQ 2034 3584 2315 3537 \r\nQ 2597 3491 2834 3397 \r\nz\r\n\" id=\"DejaVuSans-73\" transform=\"scale(0.015625)\"/>\r\n        <path d=\"M 628 4666 \r\nL 1259 4666 \r\nL 1259 325 \r\nQ 1259 -519 939 -900 \r\nQ 619 -1281 -91 -1281 \r\nL -331 -1281 \r\nL -331 -750 \r\nL -134 -750 \r\nQ 284 -750 456 -515 \r\nQ 628 -281 628 325 \r\nL 628 4666 \r\nz\r\n\" id=\"DejaVuSans-4a\" transform=\"scale(0.015625)\"/>\r\n        <path d=\"M 513 4856 \r\nL 1013 4856 \r\nQ 1481 4119 1714 3412 \r\nQ 1947 2706 1947 2009 \r\nQ 1947 1309 1714 600 \r\nQ 1481 -109 1013 -844 \r\nL 513 -844 \r\nQ 928 -128 1133 580 \r\nQ 1338 1288 1338 2009 \r\nQ 1338 2731 1133 3434 \r\nQ 928 4138 513 4856 \r\nz\r\n\" id=\"DejaVuSans-29\" transform=\"scale(0.015625)\"/>\r\n       </defs>\r\n       <use xlink:href=\"#DejaVuSans-48\"/>\r\n       <use x=\"75.195312\" xlink:href=\"#DejaVuSans-61\"/>\r\n       <use x=\"136.474609\" xlink:href=\"#DejaVuSans-72\"/>\r\n       <use x=\"175.837891\" xlink:href=\"#DejaVuSans-67\"/>\r\n       <use x=\"239.314453\" xlink:href=\"#DejaVuSans-61\"/>\r\n       <use x=\"300.59375\" xlink:href=\"#DejaVuSans-20\"/>\r\n       <use x=\"332.380859\" xlink:href=\"#DejaVuSans-28\"/>\r\n       <use x=\"371.394531\" xlink:href=\"#DejaVuSans-52\"/>\r\n       <use x=\"438.626953\" xlink:href=\"#DejaVuSans-61\"/>\r\n       <use x=\"499.90625\" xlink:href=\"#DejaVuSans-74\"/>\r\n       <use x=\"539.115234\" xlink:href=\"#DejaVuSans-75\"/>\r\n       <use x=\"602.494141\" xlink:href=\"#DejaVuSans-73\"/>\r\n       <use x=\"654.59375\" xlink:href=\"#DejaVuSans-20\"/>\r\n       <use x=\"686.380859\" xlink:href=\"#DejaVuSans-4a\"/>\r\n       <use x=\"715.873047\" xlink:href=\"#DejaVuSans-75\"/>\r\n       <use x=\"779.251953\" xlink:href=\"#DejaVuSans-74\"/>\r\n       <use x=\"818.460938\" xlink:href=\"#DejaVuSans-61\"/>\r\n       <use x=\"879.740234\" xlink:href=\"#DejaVuSans-29\"/>\r\n      </g>\r\n     </g>\r\n    </g>\r\n   </g>\r\n   <g id=\"matplotlib.axis_2\">\r\n    <g id=\"ytick_1\">\r\n     <g id=\"line2d_6\">\r\n      <defs>\r\n       <path d=\"M 0 0 \r\nL -3.5 0 \r\n\" id=\"mbbb5d4f6d4\" style=\"stroke:#000000;stroke-width:0.8;\"/>\r\n      </defs>\r\n      <g>\r\n       <use style=\"stroke:#000000;stroke-width:0.8;\" x=\"26.925\" xlink:href=\"#mbbb5d4f6d4\" y=\"688.848617\"/>\r\n      </g>\r\n     </g>\r\n     <g id=\"text_6\">\r\n      <!-- 2 -->\r\n      <g transform=\"translate(13.5625 692.647835)scale(0.1 -0.1)\">\r\n       <defs>\r\n        <path d=\"M 1228 531 \r\nL 3431 531 \r\nL 3431 0 \r\nL 469 0 \r\nL 469 531 \r\nQ 828 903 1448 1529 \r\nQ 2069 2156 2228 2338 \r\nQ 2531 2678 2651 2914 \r\nQ 2772 3150 2772 3378 \r\nQ 2772 3750 2511 3984 \r\nQ 2250 4219 1831 4219 \r\nQ 1534 4219 1204 4116 \r\nQ 875 4013 500 3803 \r\nL 500 4441 \r\nQ 881 4594 1212 4672 \r\nQ 1544 4750 1819 4750 \r\nQ 2544 4750 2975 4387 \r\nQ 3406 4025 3406 3419 \r\nQ 3406 3131 3298 2873 \r\nQ 3191 2616 2906 2266 \r\nQ 2828 2175 2409 1742 \r\nQ 1991 1309 1228 531 \r\nz\r\n\" id=\"DejaVuSans-32\" transform=\"scale(0.015625)\"/>\r\n       </defs>\r\n       <use xlink:href=\"#DejaVuSans-32\"/>\r\n      </g>\r\n     </g>\r\n    </g>\r\n    <g id=\"ytick_2\">\r\n     <g id=\"line2d_7\">\r\n      <g>\r\n       <use style=\"stroke:#000000;stroke-width:0.8;\" x=\"26.925\" xlink:href=\"#mbbb5d4f6d4\" y=\"527.702372\"/>\r\n      </g>\r\n     </g>\r\n     <g id=\"text_7\">\r\n      <!-- 4 -->\r\n      <g transform=\"translate(13.5625 531.50159)scale(0.1 -0.1)\">\r\n       <defs>\r\n        <path d=\"M 2419 4116 \r\nL 825 1625 \r\nL 2419 1625 \r\nL 2419 4116 \r\nz\r\nM 2253 4666 \r\nL 3047 4666 \r\nL 3047 1625 \r\nL 3713 1625 \r\nL 3713 1100 \r\nL 3047 1100 \r\nL 3047 0 \r\nL 2419 0 \r\nL 2419 1100 \r\nL 313 1100 \r\nL 313 1709 \r\nL 2253 4666 \r\nz\r\n\" id=\"DejaVuSans-34\" transform=\"scale(0.015625)\"/>\r\n       </defs>\r\n       <use xlink:href=\"#DejaVuSans-34\"/>\r\n      </g>\r\n     </g>\r\n    </g>\r\n    <g id=\"ytick_3\">\r\n     <g id=\"line2d_8\">\r\n      <g>\r\n       <use style=\"stroke:#000000;stroke-width:0.8;\" x=\"26.925\" xlink:href=\"#mbbb5d4f6d4\" y=\"366.556126\"/>\r\n      </g>\r\n     </g>\r\n     <g id=\"text_8\">\r\n      <!-- 6 -->\r\n      <g transform=\"translate(13.5625 370.355345)scale(0.1 -0.1)\">\r\n       <defs>\r\n        <path d=\"M 2113 2584 \r\nQ 1688 2584 1439 2293 \r\nQ 1191 2003 1191 1497 \r\nQ 1191 994 1439 701 \r\nQ 1688 409 2113 409 \r\nQ 2538 409 2786 701 \r\nQ 3034 994 3034 1497 \r\nQ 3034 2003 2786 2293 \r\nQ 2538 2584 2113 2584 \r\nz\r\nM 3366 4563 \r\nL 3366 3988 \r\nQ 3128 4100 2886 4159 \r\nQ 2644 4219 2406 4219 \r\nQ 1781 4219 1451 3797 \r\nQ 1122 3375 1075 2522 \r\nQ 1259 2794 1537 2939 \r\nQ 1816 3084 2150 3084 \r\nQ 2853 3084 3261 2657 \r\nQ 3669 2231 3669 1497 \r\nQ 3669 778 3244 343 \r\nQ 2819 -91 2113 -91 \r\nQ 1303 -91 875 529 \r\nQ 447 1150 447 2328 \r\nQ 447 3434 972 4092 \r\nQ 1497 4750 2381 4750 \r\nQ 2619 4750 2861 4703 \r\nQ 3103 4656 3366 4563 \r\nz\r\n\" id=\"DejaVuSans-36\" transform=\"scale(0.015625)\"/>\r\n       </defs>\r\n       <use xlink:href=\"#DejaVuSans-36\"/>\r\n      </g>\r\n     </g>\r\n    </g>\r\n    <g id=\"ytick_4\">\r\n     <g id=\"line2d_9\">\r\n      <g>\r\n       <use style=\"stroke:#000000;stroke-width:0.8;\" x=\"26.925\" xlink:href=\"#mbbb5d4f6d4\" y=\"205.409881\"/>\r\n      </g>\r\n     </g>\r\n     <g id=\"text_9\">\r\n      <!-- 8 -->\r\n      <g transform=\"translate(13.5625 209.2091)scale(0.1 -0.1)\">\r\n       <defs>\r\n        <path d=\"M 2034 2216 \r\nQ 1584 2216 1326 1975 \r\nQ 1069 1734 1069 1313 \r\nQ 1069 891 1326 650 \r\nQ 1584 409 2034 409 \r\nQ 2484 409 2743 651 \r\nQ 3003 894 3003 1313 \r\nQ 3003 1734 2745 1975 \r\nQ 2488 2216 2034 2216 \r\nz\r\nM 1403 2484 \r\nQ 997 2584 770 2862 \r\nQ 544 3141 544 3541 \r\nQ 544 4100 942 4425 \r\nQ 1341 4750 2034 4750 \r\nQ 2731 4750 3128 4425 \r\nQ 3525 4100 3525 3541 \r\nQ 3525 3141 3298 2862 \r\nQ 3072 2584 2669 2484 \r\nQ 3125 2378 3379 2068 \r\nQ 3634 1759 3634 1313 \r\nQ 3634 634 3220 271 \r\nQ 2806 -91 2034 -91 \r\nQ 1263 -91 848 271 \r\nQ 434 634 434 1313 \r\nQ 434 1759 690 2068 \r\nQ 947 2378 1403 2484 \r\nz\r\nM 1172 3481 \r\nQ 1172 3119 1398 2916 \r\nQ 1625 2713 2034 2713 \r\nQ 2441 2713 2670 2916 \r\nQ 2900 3119 2900 3481 \r\nQ 2900 3844 2670 4047 \r\nQ 2441 4250 2034 4250 \r\nQ 1625 4250 1398 4047 \r\nQ 1172 3844 1172 3481 \r\nz\r\n\" id=\"DejaVuSans-38\" transform=\"scale(0.015625)\"/>\r\n       </defs>\r\n       <use xlink:href=\"#DejaVuSans-38\"/>\r\n      </g>\r\n     </g>\r\n    </g>\r\n    <g id=\"ytick_5\">\r\n     <g id=\"line2d_10\">\r\n      <g>\r\n       <use style=\"stroke:#000000;stroke-width:0.8;\" x=\"26.925\" xlink:href=\"#mbbb5d4f6d4\" y=\"44.263636\"/>\r\n      </g>\r\n     </g>\r\n     <g id=\"text_10\">\r\n      <!-- 10 -->\r\n      <g transform=\"translate(7.2 48.062855)scale(0.1 -0.1)\">\r\n       <defs>\r\n        <path d=\"M 794 531 \r\nL 1825 531 \r\nL 1825 4091 \r\nL 703 3866 \r\nL 703 4441 \r\nL 1819 4666 \r\nL 2450 4666 \r\nL 2450 531 \r\nL 3481 531 \r\nL 3481 0 \r\nL 794 0 \r\nL 794 531 \r\nz\r\n\" id=\"DejaVuSans-31\" transform=\"scale(0.015625)\"/>\r\n        <path d=\"M 2034 4250 \r\nQ 1547 4250 1301 3770 \r\nQ 1056 3291 1056 2328 \r\nQ 1056 1369 1301 889 \r\nQ 1547 409 2034 409 \r\nQ 2525 409 2770 889 \r\nQ 3016 1369 3016 2328 \r\nQ 3016 3291 2770 3770 \r\nQ 2525 4250 2034 4250 \r\nz\r\nM 2034 4750 \r\nQ 2819 4750 3233 4129 \r\nQ 3647 3509 3647 2328 \r\nQ 3647 1150 3233 529 \r\nQ 2819 -91 2034 -91 \r\nQ 1250 -91 836 529 \r\nQ 422 1150 422 2328 \r\nQ 422 3509 836 4129 \r\nQ 1250 4750 2034 4750 \r\nz\r\n\" id=\"DejaVuSans-30\" transform=\"scale(0.015625)\"/>\r\n       </defs>\r\n       <use xlink:href=\"#DejaVuSans-31\"/>\r\n       <use x=\"63.623047\" xlink:href=\"#DejaVuSans-30\"/>\r\n      </g>\r\n     </g>\r\n    </g>\r\n   </g>\r\n   <g id=\"line2d_11\">\r\n    <path clip-path=\"url(#p08f877abac)\" d=\"M 127.365 447.129249 \r\nL 127.365 608.275494 \r\n\" style=\"fill:none;stroke:#3d3d3d;stroke-linecap:square;stroke-width:1.5;\"/>\r\n   </g>\r\n   <g id=\"line2d_12\">\r\n    <path clip-path=\"url(#p08f877abac)\" d=\"M 127.365 205.409881 \r\nL 127.365 44.263636 \r\n\" style=\"fill:none;stroke:#3d3d3d;stroke-linecap:square;stroke-width:1.5;\"/>\r\n   </g>\r\n   <g id=\"line2d_13\">\r\n    <path clip-path=\"url(#p08f877abac)\" d=\"M 87.189 608.275494 \r\nL 167.541 608.275494 \r\n\" style=\"fill:none;stroke:#3d3d3d;stroke-linecap:square;stroke-width:1.5;\"/>\r\n   </g>\r\n   <g id=\"line2d_14\">\r\n    <path clip-path=\"url(#p08f877abac)\" d=\"M 87.189 44.263636 \r\nL 167.541 44.263636 \r\n\" style=\"fill:none;stroke:#3d3d3d;stroke-linecap:square;stroke-width:1.5;\"/>\r\n   </g>\r\n   <g id=\"line2d_15\"/>\r\n   <g id=\"line2d_16\">\r\n    <path clip-path=\"url(#p08f877abac)\" d=\"M 328.245 527.702372 \r\nL 328.245 608.275494 \r\n\" style=\"fill:none;stroke:#3d3d3d;stroke-linecap:square;stroke-width:1.5;\"/>\r\n   </g>\r\n   <g id=\"line2d_17\">\r\n    <path clip-path=\"url(#p08f877abac)\" d=\"M 328.245 205.409881 \r\nL 328.245 44.263636 \r\n\" style=\"fill:none;stroke:#3d3d3d;stroke-linecap:square;stroke-width:1.5;\"/>\r\n   </g>\r\n   <g id=\"line2d_18\">\r\n    <path clip-path=\"url(#p08f877abac)\" d=\"M 288.069 608.275494 \r\nL 368.421 608.275494 \r\n\" style=\"fill:none;stroke:#3d3d3d;stroke-linecap:square;stroke-width:1.5;\"/>\r\n   </g>\r\n   <g id=\"line2d_19\">\r\n    <path clip-path=\"url(#p08f877abac)\" d=\"M 288.069 44.263636 \r\nL 368.421 44.263636 \r\n\" style=\"fill:none;stroke:#3d3d3d;stroke-linecap:square;stroke-width:1.5;\"/>\r\n   </g>\r\n   <g id=\"line2d_20\"/>\r\n   <g id=\"line2d_21\">\r\n    <path clip-path=\"url(#p08f877abac)\" d=\"M 529.125 366.556126 \r\nL 529.125 527.702372 \r\n\" style=\"fill:none;stroke:#3d3d3d;stroke-linecap:square;stroke-width:1.5;\"/>\r\n   </g>\r\n   <g id=\"line2d_22\">\r\n    <path clip-path=\"url(#p08f877abac)\" d=\"M 529.125 124.836759 \r\nL 529.125 44.263636 \r\n\" style=\"fill:none;stroke:#3d3d3d;stroke-linecap:square;stroke-width:1.5;\"/>\r\n   </g>\r\n   <g id=\"line2d_23\">\r\n    <path clip-path=\"url(#p08f877abac)\" d=\"M 488.949 527.702372 \r\nL 569.301 527.702372 \r\n\" style=\"fill:none;stroke:#3d3d3d;stroke-linecap:square;stroke-width:1.5;\"/>\r\n   </g>\r\n   <g id=\"line2d_24\">\r\n    <path clip-path=\"url(#p08f877abac)\" d=\"M 488.949 44.263636 \r\nL 569.301 44.263636 \r\n\" style=\"fill:none;stroke:#3d3d3d;stroke-linecap:square;stroke-width:1.5;\"/>\r\n   </g>\r\n   <g id=\"line2d_25\"/>\r\n   <g id=\"line2d_26\">\r\n    <path clip-path=\"url(#p08f877abac)\" d=\"M 730.005 366.556126 \r\nL 730.005 447.129249 \r\n\" style=\"fill:none;stroke:#3d3d3d;stroke-linecap:square;stroke-width:1.5;\"/>\r\n   </g>\r\n   <g id=\"line2d_27\">\r\n    <path clip-path=\"url(#p08f877abac)\" d=\"M 730.005 205.409881 \r\nL 730.005 124.836759 \r\n\" style=\"fill:none;stroke:#3d3d3d;stroke-linecap:square;stroke-width:1.5;\"/>\r\n   </g>\r\n   <g id=\"line2d_28\">\r\n    <path clip-path=\"url(#p08f877abac)\" d=\"M 689.829 447.129249 \r\nL 770.181 447.129249 \r\n\" style=\"fill:none;stroke:#3d3d3d;stroke-linecap:square;stroke-width:1.5;\"/>\r\n   </g>\r\n   <g id=\"line2d_29\">\r\n    <path clip-path=\"url(#p08f877abac)\" d=\"M 689.829 124.836759 \r\nL 770.181 124.836759 \r\n\" style=\"fill:none;stroke:#3d3d3d;stroke-linecap:square;stroke-width:1.5;\"/>\r\n   </g>\r\n   <g id=\"line2d_30\"/>\r\n   <g id=\"line2d_31\">\r\n    <path clip-path=\"url(#p08f877abac)\" d=\"M 930.885 708.991897 \r\nL 930.885 785.536364 \r\n\" style=\"fill:none;stroke:#3d3d3d;stroke-linecap:square;stroke-width:1.5;\"/>\r\n   </g>\r\n   <g id=\"line2d_32\">\r\n    <path clip-path=\"url(#p08f877abac)\" d=\"M 930.885 447.129249 \r\nL 930.885 366.556126 \r\n\" style=\"fill:none;stroke:#3d3d3d;stroke-linecap:square;stroke-width:1.5;\"/>\r\n   </g>\r\n   <g id=\"line2d_33\">\r\n    <path clip-path=\"url(#p08f877abac)\" d=\"M 890.709 785.536364 \r\nL 971.061 785.536364 \r\n\" style=\"fill:none;stroke:#3d3d3d;stroke-linecap:square;stroke-width:1.5;\"/>\r\n   </g>\r\n   <g id=\"line2d_34\">\r\n    <path clip-path=\"url(#p08f877abac)\" d=\"M 890.709 366.556126 \r\nL 971.061 366.556126 \r\n\" style=\"fill:none;stroke:#3d3d3d;stroke-linecap:square;stroke-width:1.5;\"/>\r\n   </g>\r\n   <g id=\"line2d_35\">\r\n    <defs>\r\n     <path d=\"M 0 3.535534 \r\nL 2.12132 0 \r\nL 0 -3.535534 \r\nL -2.12132 0 \r\nz\r\n\" id=\"m27d097308c\" style=\"stroke:#3d3d3d;stroke-linejoin:miter;\"/>\r\n    </defs>\r\n    <g clip-path=\"url(#p08f877abac)\">\r\n     <use style=\"fill:#3d3d3d;stroke:#3d3d3d;stroke-linejoin:miter;\" x=\"930.885\" xlink:href=\"#m27d097308c\" y=\"44.263636\"/>\r\n    </g>\r\n   </g>\r\n   <g id=\"line2d_36\">\r\n    <path clip-path=\"url(#p08f877abac)\" d=\"M 47.013 285.983004 \r\nL 207.717 285.983004 \r\n\" style=\"fill:none;stroke:#3d3d3d;stroke-linecap:square;stroke-width:1.5;\"/>\r\n   </g>\r\n   <g id=\"line2d_37\">\r\n    <path clip-path=\"url(#p08f877abac)\" d=\"M 247.893 285.983004 \r\nL 408.597 285.983004 \r\n\" style=\"fill:none;stroke:#3d3d3d;stroke-linecap:square;stroke-width:1.5;\"/>\r\n   </g>\r\n   <g id=\"line2d_38\">\r\n    <path clip-path=\"url(#p08f877abac)\" d=\"M 448.773 285.983004 \r\nL 609.477 285.983004 \r\n\" style=\"fill:none;stroke:#3d3d3d;stroke-linecap:square;stroke-width:1.5;\"/>\r\n   </g>\r\n   <g id=\"line2d_39\">\r\n    <path clip-path=\"url(#p08f877abac)\" d=\"M 649.653 285.983004 \r\nL 810.357 285.983004 \r\n\" style=\"fill:none;stroke:#3d3d3d;stroke-linecap:square;stroke-width:1.5;\"/>\r\n   </g>\r\n   <g id=\"line2d_40\">\r\n    <path clip-path=\"url(#p08f877abac)\" d=\"M 850.533 664.67668 \r\nL 1011.237 664.67668 \r\n\" style=\"fill:none;stroke:#3d3d3d;stroke-linecap:square;stroke-width:1.5;\"/>\r\n   </g>\r\n   <g id=\"patch_8\">\r\n    <path d=\"M 26.925 822.6 \r\nL 26.925 7.2 \r\n\" style=\"fill:none;stroke:#000000;stroke-linecap:square;stroke-linejoin:miter;stroke-width:0.8;\"/>\r\n   </g>\r\n   <g id=\"patch_9\">\r\n    <path d=\"M 1031.325 822.6 \r\nL 1031.325 7.2 \r\n\" style=\"fill:none;stroke:#000000;stroke-linecap:square;stroke-linejoin:miter;stroke-width:0.8;\"/>\r\n   </g>\r\n   <g id=\"patch_10\">\r\n    <path d=\"M 26.925 822.6 \r\nL 1031.325 822.6 \r\n\" style=\"fill:none;stroke:#000000;stroke-linecap:square;stroke-linejoin:miter;stroke-width:0.8;\"/>\r\n   </g>\r\n   <g id=\"patch_11\">\r\n    <path d=\"M 26.925 7.2 \r\nL 1031.325 7.2 \r\n\" style=\"fill:none;stroke:#000000;stroke-linecap:square;stroke-linejoin:miter;stroke-width:0.8;\"/>\r\n   </g>\r\n  </g>\r\n </g>\r\n <defs>\r\n  <clipPath id=\"p08f877abac\">\r\n   <rect height=\"815.4\" width=\"1004.4\" x=\"26.925\" y=\"7.2\"/>\r\n  </clipPath>\r\n </defs>\r\n</svg>\r\n",
            "image/png": "[encoded data removed]"
          },
          "metadata": {
            "needs_background": "light"
          }
        }
      ]
    },
    {
      "cell_type": "markdown",
      "metadata": {
        "id": "ds37T5AoFydt"
      },
      "source": [
        "As we can see above, there is an outliers on that bloxpot. This outliers it doesn't need to remove, because its just one outliers.\n",
        "\n",
        "### **KKN Function and Procedures**\n",
        "#### **Euclidian Dist**"
      ]
    },
    {
      "cell_type": "code",
      "metadata": {
        "id": "ZStLt0QRdR7W"
      },
      "source": [
        "def euclidian(criteria, data):\n",
        "  dist = 0\n",
        "  for i in range(len(data)):\n",
        "    dist += (criteria[i] - data[i])**2\n",
        "  return math.sqrt(dist)"
      ],
      "execution_count": 9,
      "outputs": []
    },
    {
      "cell_type": "markdown",
      "metadata": {
        "id": "Chd4V8rJhx1k"
      },
      "source": [
        "#### **Manhattan Dist**"
      ]
    },
    {
      "cell_type": "code",
      "metadata": {
        "id": "Ke4JCFhwh9c3"
      },
      "source": [
        "def manhattan(criteria, data):\n",
        "  dist = 0\n",
        "  for i in range(len(data)):\n",
        "    dist += abs(criteria[i] - data[i])\n",
        "  return dist"
      ],
      "execution_count": 10,
      "outputs": []
    },
    {
      "cell_type": "markdown",
      "metadata": {
        "id": "VcMS1Kg3k0ti"
      },
      "source": [
        "#### **Minkowski Dist**"
      ]
    },
    {
      "cell_type": "code",
      "metadata": {
        "id": "Avw8LWq-k12g"
      },
      "source": [
        "def minkowski(criteria, data, p):\n",
        "  dist = 0\n",
        "  for i in range(len(data)):\n",
        "    dist += abs(criteria[i] - data[i])**p\n",
        "  return dist**(1/p)"
      ],
      "execution_count": 11,
      "outputs": []
    },
    {
      "cell_type": "markdown",
      "metadata": {
        "id": "O6nS6l_FngTf"
      },
      "source": [
        "#### **Supremum Dist**"
      ]
    },
    {
      "cell_type": "code",
      "metadata": {
        "id": "qFrZv4Msnkss"
      },
      "source": [
        "def supremum(criteria, data):\n",
        "  dist = []\n",
        "  for i in range(len(data)):\n",
        "    dist.append(abs(criteria[i] - data[i]))\n",
        "  return max(dist)"
      ],
      "execution_count": 12,
      "outputs": []
    },
    {
      "cell_type": "markdown",
      "metadata": {
        "id": "i-bibA-4xNA3"
      },
      "source": [
        "#### **Get All Distances**"
      ]
    },
    {
      "cell_type": "code",
      "metadata": {
        "id": "9V5HNgyixFUv"
      },
      "source": [
        "def get_distances(df, test_data):\n",
        "  result = {\n",
        "      'euclidian': [],\n",
        "      'manhattan': [],\n",
        "      'minkowski': [],\n",
        "      'supremum': []\n",
        "  }\n",
        "  df_list = (df.copy()).values.tolist()\n",
        "  df_car_new = df.drop(columns=['Nama Mobil'])\n",
        "  data_number = len(df)\n",
        "  for i in range(data_number):\n",
        "    data_temp = df_car_new.iloc[i].tolist()\n",
        "    result['euclidian'].append([df_list[i][0], euclidian(test_data, data_temp)])\n",
        "    result['manhattan'].append([df_list[i][0], manhattan(test_data, data_temp)])\n",
        "    result['minkowski'].append([df_list[i][0], minkowski(test_data, data_temp, 2)]),\n",
        "    result['supremum'].append([df_list[i][0], supremum(test_data, data_temp)])\n",
        "\n",
        "  return result"
      ],
      "execution_count": 13,
      "outputs": []
    },
    {
      "cell_type": "markdown",
      "metadata": {
        "id": "yiVHg6CGR4WL"
      },
      "source": [
        "#### **Get Best Three of Each Distances Rule**"
      ]
    },
    {
      "cell_type": "code",
      "metadata": {
        "id": "gaRvdDc0F-kM"
      },
      "source": [
        "def get_best_three(df_car, data_distances):\n",
        "  copy_distances = copy.deepcopy(data_distances)\n",
        "  copy_distances['euclidian'].sort(key=operator.itemgetter(1), reverse=False)\n",
        "  copy_distances['manhattan'].sort(key=operator.itemgetter(1), reverse=False)\n",
        "  copy_distances['minkowski'].sort(key=operator.itemgetter(1), reverse=False)\n",
        "  copy_distances['supremum'].sort(key=operator.itemgetter(1), reverse=False)\n",
        "\n",
        "  copy_df_car = (df_car.copy()).values.tolist()\n",
        "\n",
        "  best_three = []\n",
        "\n",
        "  for i in range(3):\n",
        "    car_name_eu = copy_distances['euclidian'][i][0]\n",
        "    car_name_ma = copy_distances['manhattan'][i][0]\n",
        "    car_name_mi = copy_distances['minkowski'][i][0]\n",
        "    car_name_su = copy_distances['supremum'][i][0]\n",
        "\n",
        "    eu_value = copy_distances['euclidian'][i][1]\n",
        "    ma_value = copy_distances['manhattan'][i][1]\n",
        "    mi_value = copy_distances['minkowski'][i][1]\n",
        "    su_value = copy_distances['supremum'][i][1]\n",
        "\n",
        "    best_three.append([car_name_eu, eu_value, car_name_ma, ma_value, car_name_mi, mi_value, car_name_su, su_value])\n",
        "\n",
        "  return np.array(best_three)"
      ],
      "execution_count": 14,
      "outputs": []
    },
    {
      "cell_type": "markdown",
      "metadata": {
        "id": "xgwirwqSWGyJ"
      },
      "source": [
        "### **Main Program | Proccess of KNN**\n",
        "#### **Get User Input for Test Data**"
      ]
    },
    {
      "cell_type": "code",
      "metadata": {
        "colab": {
          "base_uri": "https://localhost:8080/"
        },
        "id": "_AYI8xaccWvg",
        "outputId": "960758c1-3d72-40e4-ff8a-c309ed208b22"
      },
      "source": [
        "ukuran = int(input(\"Masukan Ukuran\t\t: \"))\n",
        "kenyamanan = int(input(\"Masukan Kenyamanan\t: \"))\n",
        "irit = int(input(\"Masukan Irit\t\t: \"))\n",
        "kecepatan = float(input(\"Masukan Kecepatan\t: \"))\n",
        "harga = float(input(\"Harga\t\t\t: \"))\n",
        "\n",
        "test_data = [ukuran, kenyamanan, irit, kecepatan, harga]"
      ],
      "execution_count": 15,
      "outputs": []
    },
    {
      "cell_type": "markdown",
      "metadata": {
        "id": "gnLzfrY1de5g"
      },
      "source": [
        "#### **Get All Distances & Get Best Three of Each Distances Rule**"
      ]
    },
    {
      "cell_type": "code",
      "metadata": {
        "colab": {
          "base_uri": "https://localhost:8080/",
          "height": 143
        },
        "id": "idp8RS4XSxrP",
        "outputId": "dd4111be-9d44-4ac0-9087-c5940292b3da"
      },
      "source": [
        "data_distances = get_distances(df_car, test_data)\n",
        "best_three = get_best_three(df_car, data_distances)\n",
        "data_final = pd.DataFrame(best_three, columns=['Euclidian', 'Eu Value', 'Manhattan', 'Ma Value', 'Minkowski', 'Mi Value', 'Supremum', 'Su Value'])\n",
        "data_final\n"
      ],
      "execution_count": 16,
      "outputs": [
        {
          "output_type": "execute_result",
          "data": {
            "text/plain": [
              "              Euclidian           Eu Value    Manhattan Ma Value  \\\n",
              "0            Honda City  4.127953488110059   Honda City      7.2   \n",
              "1  Toyota Corolla Altis  5.220153254455275  Toyota Vios     10.0   \n",
              "2           Toyota Vios  5.477225575051661      Xpander    10.25   \n",
              "\n",
              "              Minkowski           Mi Value              Supremum Su Value  \n",
              "0            Honda City  4.127953488110059            Honda City      3.0  \n",
              "1  Toyota Corolla Altis  5.220153254455275  Toyota Corolla Altis      3.5  \n",
              "2           Toyota Vios  5.477225575051661           Toyota Agya      4.0  "
            ],
            "text/html": "<div>\n<style scoped>\n    .dataframe tbody tr th:only-of-type {\n        vertical-align: middle;\n    }\n\n    .dataframe tbody tr th {\n        vertical-align: top;\n    }\n\n    .dataframe thead th {\n        text-align: right;\n    }\n</style>\n<table border=\"1\" class=\"dataframe\">\n  <thead>\n    <tr style=\"text-align: right;\">\n      <th></th>\n      <th>Euclidian</th>\n      <th>Eu Value</th>\n      <th>Manhattan</th>\n      <th>Ma Value</th>\n      <th>Minkowski</th>\n      <th>Mi Value</th>\n      <th>Supremum</th>\n      <th>Su Value</th>\n    </tr>\n  </thead>\n  <tbody>\n    <tr>\n      <th>0</th>\n      <td>Honda City</td>\n      <td>4.127953488110059</td>\n      <td>Honda City</td>\n      <td>7.2</td>\n      <td>Honda City</td>\n      <td>4.127953488110059</td>\n      <td>Honda City</td>\n      <td>3.0</td>\n    </tr>\n    <tr>\n      <th>1</th>\n      <td>Toyota Corolla Altis</td>\n      <td>5.220153254455275</td>\n      <td>Toyota Vios</td>\n      <td>10.0</td>\n      <td>Toyota Corolla Altis</td>\n      <td>5.220153254455275</td>\n      <td>Toyota Corolla Altis</td>\n      <td>3.5</td>\n    </tr>\n    <tr>\n      <th>2</th>\n      <td>Toyota Vios</td>\n      <td>5.477225575051661</td>\n      <td>Xpander</td>\n      <td>10.25</td>\n      <td>Toyota Vios</td>\n      <td>5.477225575051661</td>\n      <td>Toyota Agya</td>\n      <td>4.0</td>\n    </tr>\n  </tbody>\n</table>\n</div>"
          },
          "metadata": {},
          "execution_count": 16
        }
      ]
    },
    {
      "cell_type": "markdown",
      "metadata": {
        "id": "QpX14cW6WjMU"
      },
      "source": [
        "#### **Export to Excel**"
      ]
    },
    {
      "cell_type": "code",
      "metadata": {
        "id": "BXoRLdHSTUSr"
      },
      "source": [
        "file_path = 'rekomendasi.xlsx'\n",
        "    \n",
        "data_final.to_excel(file_path, index=False)"
      ],
      "execution_count": 17,
      "outputs": []
    }
  ]
}