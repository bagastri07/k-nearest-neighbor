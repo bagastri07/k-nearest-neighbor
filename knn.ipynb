{
  "nbformat": 4,
  "nbformat_minor": 0,
  "metadata": {
    "colab": {
      "name": "knn.ipynb",
      "provenance": [],
      "collapsed_sections": [],
      "authorship_tag": "ABX9TyNdeNbeOWEIGiikWNN4pd95",
      "include_colab_link": true
    },
    "kernelspec": {
      "name": "python3",
      "display_name": "Python 3"
    },
    "language_info": {
      "name": "python"
    }
  },
  "cells": [
    {
      "cell_type": "markdown",
      "metadata": {
        "id": "view-in-github",
        "colab_type": "text"
      },
      "source": [
        "<a href=\"https://colab.research.google.com/github/bagastri07/k-nearest-neighbor/blob/main/knn.ipynb\" target=\"_parent\"><img src=\"https://colab.research.google.com/assets/colab-badge.svg\" alt=\"Open In Colab\"/></a>"
      ]
    },
    {
      "cell_type": "markdown",
      "metadata": {
        "id": "uxWm9Ly1_dUC"
      },
      "source": [
        "# **K-Nearest Neighboor Task**\n",
        "\n",
        "Written by **Bagas Tri Wibowo**, from Class **IF-43-04**, with Student Number **1301194051**"
      ]
    },
    {
      "cell_type": "markdown",
      "metadata": {
        "id": "UUdeDQ4KAyZq"
      },
      "source": [
        "### **Import Library**"
      ]
    },
    {
      "cell_type": "code",
      "metadata": {
        "id": "9sIYkC9h_aNg"
      },
      "source": [
        "import sys\n",
        "import pandas as pd\n",
        "import numpy as np\n",
        "import math\n",
        "import matplotlib.pyplot as plt\n",
        "import seaborn as sns\n",
        "import copy\n",
        "import operator"
      ],
      "execution_count": 18,
      "outputs": []
    },
    {
      "cell_type": "markdown",
      "metadata": {
        "id": "ySsJ2gF1BG-s"
      },
      "source": [
        "\n",
        "### **Import Excel FIle**"
      ]
    },
    {
      "cell_type": "code",
      "metadata": {
        "colab": {
          "base_uri": "https://localhost:8080/",
          "height": 582
        },
        "id": "pVi-cEt5BDF2",
        "outputId": "100e8cd1-07a9-4822-ac26-baf2c4994159"
      },
      "source": [
        "df_car = pd.read_excel('mobil.xls')\n",
        "pd.set_option('display.max_rows', None)\n",
        "df_car"
      ],
      "execution_count": 19,
      "outputs": [
        {
          "output_type": "execute_result",
          "data": {
            "text/html": [
              "<div>\n",
              "<style scoped>\n",
              "    .dataframe tbody tr th:only-of-type {\n",
              "        vertical-align: middle;\n",
              "    }\n",
              "\n",
              "    .dataframe tbody tr th {\n",
              "        vertical-align: top;\n",
              "    }\n",
              "\n",
              "    .dataframe thead th {\n",
              "        text-align: right;\n",
              "    }\n",
              "</style>\n",
              "<table border=\"1\" class=\"dataframe\">\n",
              "  <thead>\n",
              "    <tr style=\"text-align: right;\">\n",
              "      <th></th>\n",
              "      <th>Nama Mobil</th>\n",
              "      <th>Ukuran</th>\n",
              "      <th>Kenyamanan</th>\n",
              "      <th>Irit</th>\n",
              "      <th>Kecepatan</th>\n",
              "      <th>Harga (Ratus Juta)</th>\n",
              "    </tr>\n",
              "  </thead>\n",
              "  <tbody>\n",
              "    <tr>\n",
              "      <th>0</th>\n",
              "      <td>Toyota Agya</td>\n",
              "      <td>4</td>\n",
              "      <td>4</td>\n",
              "      <td>9</td>\n",
              "      <td>6</td>\n",
              "      <td>1.00</td>\n",
              "    </tr>\n",
              "    <tr>\n",
              "      <th>1</th>\n",
              "      <td>Daihatsu Alya</td>\n",
              "      <td>4</td>\n",
              "      <td>3</td>\n",
              "      <td>9</td>\n",
              "      <td>6</td>\n",
              "      <td>1.10</td>\n",
              "    </tr>\n",
              "    <tr>\n",
              "      <th>2</th>\n",
              "      <td>Toyota Avanza</td>\n",
              "      <td>6</td>\n",
              "      <td>5</td>\n",
              "      <td>6</td>\n",
              "      <td>6</td>\n",
              "      <td>2.00</td>\n",
              "    </tr>\n",
              "    <tr>\n",
              "      <th>3</th>\n",
              "      <td>Daihatsu Xenia</td>\n",
              "      <td>6</td>\n",
              "      <td>4</td>\n",
              "      <td>6</td>\n",
              "      <td>6</td>\n",
              "      <td>1.75</td>\n",
              "    </tr>\n",
              "    <tr>\n",
              "      <th>4</th>\n",
              "      <td>Xpander</td>\n",
              "      <td>7</td>\n",
              "      <td>7</td>\n",
              "      <td>6</td>\n",
              "      <td>7</td>\n",
              "      <td>2.25</td>\n",
              "    </tr>\n",
              "    <tr>\n",
              "      <th>5</th>\n",
              "      <td>Livina</td>\n",
              "      <td>7</td>\n",
              "      <td>7</td>\n",
              "      <td>6</td>\n",
              "      <td>7</td>\n",
              "      <td>2.10</td>\n",
              "    </tr>\n",
              "    <tr>\n",
              "      <th>6</th>\n",
              "      <td>Karimun</td>\n",
              "      <td>3</td>\n",
              "      <td>4</td>\n",
              "      <td>10</td>\n",
              "      <td>5</td>\n",
              "      <td>1.20</td>\n",
              "    </tr>\n",
              "    <tr>\n",
              "      <th>7</th>\n",
              "      <td>Toyota Innova</td>\n",
              "      <td>8</td>\n",
              "      <td>8</td>\n",
              "      <td>5</td>\n",
              "      <td>7</td>\n",
              "      <td>4.00</td>\n",
              "    </tr>\n",
              "    <tr>\n",
              "      <th>8</th>\n",
              "      <td>Alphard</td>\n",
              "      <td>9</td>\n",
              "      <td>10</td>\n",
              "      <td>4</td>\n",
              "      <td>8</td>\n",
              "      <td>10.00</td>\n",
              "    </tr>\n",
              "    <tr>\n",
              "      <th>9</th>\n",
              "      <td>Toyota Vios</td>\n",
              "      <td>5</td>\n",
              "      <td>7</td>\n",
              "      <td>9</td>\n",
              "      <td>8</td>\n",
              "      <td>2.50</td>\n",
              "    </tr>\n",
              "    <tr>\n",
              "      <th>10</th>\n",
              "      <td>Honda City</td>\n",
              "      <td>5</td>\n",
              "      <td>8</td>\n",
              "      <td>7</td>\n",
              "      <td>8</td>\n",
              "      <td>2.70</td>\n",
              "    </tr>\n",
              "    <tr>\n",
              "      <th>11</th>\n",
              "      <td>Toyota Hiace</td>\n",
              "      <td>10</td>\n",
              "      <td>5</td>\n",
              "      <td>8</td>\n",
              "      <td>6</td>\n",
              "      <td>5.00</td>\n",
              "    </tr>\n",
              "    <tr>\n",
              "      <th>12</th>\n",
              "      <td>Toyota Fortuner</td>\n",
              "      <td>9</td>\n",
              "      <td>8</td>\n",
              "      <td>5</td>\n",
              "      <td>8</td>\n",
              "      <td>5.00</td>\n",
              "    </tr>\n",
              "    <tr>\n",
              "      <th>13</th>\n",
              "      <td>Toyota Foxy</td>\n",
              "      <td>9</td>\n",
              "      <td>9</td>\n",
              "      <td>5</td>\n",
              "      <td>7</td>\n",
              "      <td>5.50</td>\n",
              "    </tr>\n",
              "    <tr>\n",
              "      <th>14</th>\n",
              "      <td>Toyota Corolla Altis</td>\n",
              "      <td>5</td>\n",
              "      <td>9</td>\n",
              "      <td>7</td>\n",
              "      <td>9</td>\n",
              "      <td>6.00</td>\n",
              "    </tr>\n",
              "    <tr>\n",
              "      <th>15</th>\n",
              "      <td>Suzuki Ertiga</td>\n",
              "      <td>7</td>\n",
              "      <td>7</td>\n",
              "      <td>7</td>\n",
              "      <td>7</td>\n",
              "      <td>2.30</td>\n",
              "    </tr>\n",
              "    <tr>\n",
              "      <th>16</th>\n",
              "      <td>Suzuki Carry</td>\n",
              "      <td>7</td>\n",
              "      <td>3</td>\n",
              "      <td>9</td>\n",
              "      <td>5</td>\n",
              "      <td>0.80</td>\n",
              "    </tr>\n",
              "  </tbody>\n",
              "</table>\n",
              "</div>"
            ],
            "text/plain": [
              "              Nama Mobil  Ukuran  ...  Kecepatan  Harga (Ratus Juta)\n",
              "0            Toyota Agya       4  ...          6                1.00\n",
              "1          Daihatsu Alya       4  ...          6                1.10\n",
              "2          Toyota Avanza       6  ...          6                2.00\n",
              "3         Daihatsu Xenia       6  ...          6                1.75\n",
              "4                Xpander       7  ...          7                2.25\n",
              "5                 Livina       7  ...          7                2.10\n",
              "6                Karimun       3  ...          5                1.20\n",
              "7          Toyota Innova       8  ...          7                4.00\n",
              "8                Alphard       9  ...          8               10.00\n",
              "9            Toyota Vios       5  ...          8                2.50\n",
              "10            Honda City       5  ...          8                2.70\n",
              "11          Toyota Hiace      10  ...          6                5.00\n",
              "12       Toyota Fortuner       9  ...          8                5.00\n",
              "13           Toyota Foxy       9  ...          7                5.50\n",
              "14  Toyota Corolla Altis       5  ...          9                6.00\n",
              "15         Suzuki Ertiga       7  ...          7                2.30\n",
              "16          Suzuki Carry       7  ...          5                0.80\n",
              "\n",
              "[17 rows x 6 columns]"
            ]
          },
          "metadata": {
            "tags": []
          },
          "execution_count": 19
        }
      ]
    },
    {
      "cell_type": "markdown",
      "metadata": {
        "id": "k3uHqqsRtZXU"
      },
      "source": [
        "\n",
        "### **Delete Name Coloumn**"
      ]
    },
    {
      "cell_type": "code",
      "metadata": {
        "colab": {
          "base_uri": "https://localhost:8080/",
          "height": 582
        },
        "id": "Fqh3ZUUUtScr",
        "outputId": "97f3152d-c889-45a4-ce86-a40fd3c83a4a"
      },
      "source": [
        "df_car_new = df_car.drop(columns=['Nama Mobil'])\n",
        "df_car_new"
      ],
      "execution_count": 20,
      "outputs": [
        {
          "output_type": "execute_result",
          "data": {
            "text/html": [
              "<div>\n",
              "<style scoped>\n",
              "    .dataframe tbody tr th:only-of-type {\n",
              "        vertical-align: middle;\n",
              "    }\n",
              "\n",
              "    .dataframe tbody tr th {\n",
              "        vertical-align: top;\n",
              "    }\n",
              "\n",
              "    .dataframe thead th {\n",
              "        text-align: right;\n",
              "    }\n",
              "</style>\n",
              "<table border=\"1\" class=\"dataframe\">\n",
              "  <thead>\n",
              "    <tr style=\"text-align: right;\">\n",
              "      <th></th>\n",
              "      <th>Ukuran</th>\n",
              "      <th>Kenyamanan</th>\n",
              "      <th>Irit</th>\n",
              "      <th>Kecepatan</th>\n",
              "      <th>Harga (Ratus Juta)</th>\n",
              "    </tr>\n",
              "  </thead>\n",
              "  <tbody>\n",
              "    <tr>\n",
              "      <th>0</th>\n",
              "      <td>4</td>\n",
              "      <td>4</td>\n",
              "      <td>9</td>\n",
              "      <td>6</td>\n",
              "      <td>1.00</td>\n",
              "    </tr>\n",
              "    <tr>\n",
              "      <th>1</th>\n",
              "      <td>4</td>\n",
              "      <td>3</td>\n",
              "      <td>9</td>\n",
              "      <td>6</td>\n",
              "      <td>1.10</td>\n",
              "    </tr>\n",
              "    <tr>\n",
              "      <th>2</th>\n",
              "      <td>6</td>\n",
              "      <td>5</td>\n",
              "      <td>6</td>\n",
              "      <td>6</td>\n",
              "      <td>2.00</td>\n",
              "    </tr>\n",
              "    <tr>\n",
              "      <th>3</th>\n",
              "      <td>6</td>\n",
              "      <td>4</td>\n",
              "      <td>6</td>\n",
              "      <td>6</td>\n",
              "      <td>1.75</td>\n",
              "    </tr>\n",
              "    <tr>\n",
              "      <th>4</th>\n",
              "      <td>7</td>\n",
              "      <td>7</td>\n",
              "      <td>6</td>\n",
              "      <td>7</td>\n",
              "      <td>2.25</td>\n",
              "    </tr>\n",
              "    <tr>\n",
              "      <th>5</th>\n",
              "      <td>7</td>\n",
              "      <td>7</td>\n",
              "      <td>6</td>\n",
              "      <td>7</td>\n",
              "      <td>2.10</td>\n",
              "    </tr>\n",
              "    <tr>\n",
              "      <th>6</th>\n",
              "      <td>3</td>\n",
              "      <td>4</td>\n",
              "      <td>10</td>\n",
              "      <td>5</td>\n",
              "      <td>1.20</td>\n",
              "    </tr>\n",
              "    <tr>\n",
              "      <th>7</th>\n",
              "      <td>8</td>\n",
              "      <td>8</td>\n",
              "      <td>5</td>\n",
              "      <td>7</td>\n",
              "      <td>4.00</td>\n",
              "    </tr>\n",
              "    <tr>\n",
              "      <th>8</th>\n",
              "      <td>9</td>\n",
              "      <td>10</td>\n",
              "      <td>4</td>\n",
              "      <td>8</td>\n",
              "      <td>10.00</td>\n",
              "    </tr>\n",
              "    <tr>\n",
              "      <th>9</th>\n",
              "      <td>5</td>\n",
              "      <td>7</td>\n",
              "      <td>9</td>\n",
              "      <td>8</td>\n",
              "      <td>2.50</td>\n",
              "    </tr>\n",
              "    <tr>\n",
              "      <th>10</th>\n",
              "      <td>5</td>\n",
              "      <td>8</td>\n",
              "      <td>7</td>\n",
              "      <td>8</td>\n",
              "      <td>2.70</td>\n",
              "    </tr>\n",
              "    <tr>\n",
              "      <th>11</th>\n",
              "      <td>10</td>\n",
              "      <td>5</td>\n",
              "      <td>8</td>\n",
              "      <td>6</td>\n",
              "      <td>5.00</td>\n",
              "    </tr>\n",
              "    <tr>\n",
              "      <th>12</th>\n",
              "      <td>9</td>\n",
              "      <td>8</td>\n",
              "      <td>5</td>\n",
              "      <td>8</td>\n",
              "      <td>5.00</td>\n",
              "    </tr>\n",
              "    <tr>\n",
              "      <th>13</th>\n",
              "      <td>9</td>\n",
              "      <td>9</td>\n",
              "      <td>5</td>\n",
              "      <td>7</td>\n",
              "      <td>5.50</td>\n",
              "    </tr>\n",
              "    <tr>\n",
              "      <th>14</th>\n",
              "      <td>5</td>\n",
              "      <td>9</td>\n",
              "      <td>7</td>\n",
              "      <td>9</td>\n",
              "      <td>6.00</td>\n",
              "    </tr>\n",
              "    <tr>\n",
              "      <th>15</th>\n",
              "      <td>7</td>\n",
              "      <td>7</td>\n",
              "      <td>7</td>\n",
              "      <td>7</td>\n",
              "      <td>2.30</td>\n",
              "    </tr>\n",
              "    <tr>\n",
              "      <th>16</th>\n",
              "      <td>7</td>\n",
              "      <td>3</td>\n",
              "      <td>9</td>\n",
              "      <td>5</td>\n",
              "      <td>0.80</td>\n",
              "    </tr>\n",
              "  </tbody>\n",
              "</table>\n",
              "</div>"
            ],
            "text/plain": [
              "    Ukuran  Kenyamanan  Irit  Kecepatan  Harga (Ratus Juta)\n",
              "0        4           4     9          6                1.00\n",
              "1        4           3     9          6                1.10\n",
              "2        6           5     6          6                2.00\n",
              "3        6           4     6          6                1.75\n",
              "4        7           7     6          7                2.25\n",
              "5        7           7     6          7                2.10\n",
              "6        3           4    10          5                1.20\n",
              "7        8           8     5          7                4.00\n",
              "8        9          10     4          8               10.00\n",
              "9        5           7     9          8                2.50\n",
              "10       5           8     7          8                2.70\n",
              "11      10           5     8          6                5.00\n",
              "12       9           8     5          8                5.00\n",
              "13       9           9     5          7                5.50\n",
              "14       5           9     7          9                6.00\n",
              "15       7           7     7          7                2.30\n",
              "16       7           3     9          5                0.80"
            ]
          },
          "metadata": {
            "tags": []
          },
          "execution_count": 20
        }
      ]
    },
    {
      "cell_type": "markdown",
      "metadata": {
        "id": "7PKOqOQbB9dA"
      },
      "source": [
        "\n",
        "### **Statitistic of Each Data**"
      ]
    },
    {
      "cell_type": "code",
      "metadata": {
        "colab": {
          "base_uri": "https://localhost:8080/",
          "height": 206
        },
        "id": "JKY99l0ZB-l5",
        "outputId": "92e38aa5-911c-4d9c-fdf7-97690af5f940"
      },
      "source": [
        "df_car.describe().T"
      ],
      "execution_count": 21,
      "outputs": [
        {
          "output_type": "execute_result",
          "data": {
            "text/html": [
              "<div>\n",
              "<style scoped>\n",
              "    .dataframe tbody tr th:only-of-type {\n",
              "        vertical-align: middle;\n",
              "    }\n",
              "\n",
              "    .dataframe tbody tr th {\n",
              "        vertical-align: top;\n",
              "    }\n",
              "\n",
              "    .dataframe thead th {\n",
              "        text-align: right;\n",
              "    }\n",
              "</style>\n",
              "<table border=\"1\" class=\"dataframe\">\n",
              "  <thead>\n",
              "    <tr style=\"text-align: right;\">\n",
              "      <th></th>\n",
              "      <th>count</th>\n",
              "      <th>mean</th>\n",
              "      <th>std</th>\n",
              "      <th>min</th>\n",
              "      <th>25%</th>\n",
              "      <th>50%</th>\n",
              "      <th>75%</th>\n",
              "      <th>max</th>\n",
              "    </tr>\n",
              "  </thead>\n",
              "  <tbody>\n",
              "    <tr>\n",
              "      <th>Ukuran</th>\n",
              "      <td>17.0</td>\n",
              "      <td>6.529412</td>\n",
              "      <td>2.034627</td>\n",
              "      <td>3.0</td>\n",
              "      <td>5.00</td>\n",
              "      <td>7.0</td>\n",
              "      <td>8.0</td>\n",
              "      <td>10.0</td>\n",
              "    </tr>\n",
              "    <tr>\n",
              "      <th>Kenyamanan</th>\n",
              "      <td>17.0</td>\n",
              "      <td>6.352941</td>\n",
              "      <td>2.234423</td>\n",
              "      <td>3.0</td>\n",
              "      <td>4.00</td>\n",
              "      <td>7.0</td>\n",
              "      <td>8.0</td>\n",
              "      <td>10.0</td>\n",
              "    </tr>\n",
              "    <tr>\n",
              "      <th>Irit</th>\n",
              "      <td>17.0</td>\n",
              "      <td>6.941176</td>\n",
              "      <td>1.784327</td>\n",
              "      <td>4.0</td>\n",
              "      <td>6.00</td>\n",
              "      <td>7.0</td>\n",
              "      <td>9.0</td>\n",
              "      <td>10.0</td>\n",
              "    </tr>\n",
              "    <tr>\n",
              "      <th>Kecepatan</th>\n",
              "      <td>17.0</td>\n",
              "      <td>6.823529</td>\n",
              "      <td>1.131111</td>\n",
              "      <td>5.0</td>\n",
              "      <td>6.00</td>\n",
              "      <td>7.0</td>\n",
              "      <td>8.0</td>\n",
              "      <td>9.0</td>\n",
              "    </tr>\n",
              "    <tr>\n",
              "      <th>Harga (Ratus Juta)</th>\n",
              "      <td>17.0</td>\n",
              "      <td>3.247059</td>\n",
              "      <td>2.406597</td>\n",
              "      <td>0.8</td>\n",
              "      <td>1.75</td>\n",
              "      <td>2.3</td>\n",
              "      <td>5.0</td>\n",
              "      <td>10.0</td>\n",
              "    </tr>\n",
              "  </tbody>\n",
              "</table>\n",
              "</div>"
            ],
            "text/plain": [
              "                    count      mean       std  min   25%  50%  75%   max\n",
              "Ukuran               17.0  6.529412  2.034627  3.0  5.00  7.0  8.0  10.0\n",
              "Kenyamanan           17.0  6.352941  2.234423  3.0  4.00  7.0  8.0  10.0\n",
              "Irit                 17.0  6.941176  1.784327  4.0  6.00  7.0  9.0  10.0\n",
              "Kecepatan            17.0  6.823529  1.131111  5.0  6.00  7.0  8.0   9.0\n",
              "Harga (Ratus Juta)   17.0  3.247059  2.406597  0.8  1.75  2.3  5.0  10.0"
            ]
          },
          "metadata": {
            "tags": []
          },
          "execution_count": 21
        }
      ]
    },
    {
      "cell_type": "markdown",
      "metadata": {
        "id": "0wnhnGVOCMsz"
      },
      "source": [
        "### **Data Proccesing**\n",
        "#### **Data Cleaning**\n",
        "##### **For check if there missing value**"
      ]
    },
    {
      "cell_type": "code",
      "metadata": {
        "colab": {
          "base_uri": "https://localhost:8080/"
        },
        "id": "7dPre_9PCjWm",
        "outputId": "346e031c-717d-4977-f68a-4d04e2a6d5c5"
      },
      "source": [
        "df_car.isna().sum()"
      ],
      "execution_count": 22,
      "outputs": [
        {
          "output_type": "execute_result",
          "data": {
            "text/plain": [
              "Nama Mobil            0\n",
              "Ukuran                0\n",
              "Kenyamanan            0\n",
              "Irit                  0\n",
              "Kecepatan             0\n",
              "Harga (Ratus Juta)    0\n",
              "dtype: int64"
            ]
          },
          "metadata": {
            "tags": []
          },
          "execution_count": 22
        }
      ]
    },
    {
      "cell_type": "code",
      "metadata": {
        "colab": {
          "base_uri": "https://localhost:8080/",
          "height": 36
        },
        "id": "J62fb0R9Di8B",
        "outputId": "bf4bb6be-02b4-430f-e334-eea1df57afc6"
      },
      "source": [
        "'''\n",
        "Uncomment the code below if there are missing values\n",
        "'''\n",
        "# df_car = df_car.apply(lambda x: x.fillna(x.mean()),axis=0)"
      ],
      "execution_count": 23,
      "outputs": [
        {
          "output_type": "execute_result",
          "data": {
            "application/vnd.google.colaboratory.intrinsic+json": {
              "type": "string"
            },
            "text/plain": [
              "'\\nUncomment the code below if there are missing values\\n'"
            ]
          },
          "metadata": {
            "tags": []
          },
          "execution_count": 23
        }
      ]
    },
    {
      "cell_type": "markdown",
      "metadata": {
        "id": "FA5lFjBrDE7-"
      },
      "source": [
        "##### **Check for Duplicates**"
      ]
    },
    {
      "cell_type": "code",
      "metadata": {
        "colab": {
          "base_uri": "https://localhost:8080/"
        },
        "id": "ZzCdr5YDDssa",
        "outputId": "cb7014fb-ba54-4da4-bfa3-b5463f50b377"
      },
      "source": [
        "df_car.duplicated().sum()"
      ],
      "execution_count": 24,
      "outputs": [
        {
          "output_type": "execute_result",
          "data": {
            "text/plain": [
              "0"
            ]
          },
          "metadata": {
            "tags": []
          },
          "execution_count": 24
        }
      ]
    },
    {
      "cell_type": "markdown",
      "metadata": {
        "id": "-GJKcZLDD4fj"
      },
      "source": [
        "##### **Check for Outliers With Boxplot**"
      ]
    },
    {
      "cell_type": "code",
      "metadata": {
        "colab": {
          "base_uri": "https://localhost:8080/",
          "height": 863
        },
        "id": "M8oGJrubD-tl",
        "outputId": "f2ed074e-33b2-41e7-b876-c242f22976cb"
      },
      "source": [
        "f, ax = plt.subplots(figsize=(18, 15))\n",
        "sns.boxplot(data=(df_car))\n",
        "plt.show()"
      ],
      "execution_count": 25,
      "outputs": [
        {
          "output_type": "display_data",
          "data": {
            "image/png": "[encoded data removed]",
            "text/plain": [
              "<Figure size 1296x1080 with 1 Axes>"
            ]
          },
          "metadata": {
            "tags": [],
            "needs_background": "light"
          }
        }
      ]
    },
    {
      "cell_type": "markdown",
      "metadata": {
        "id": "ds37T5AoFydt"
      },
      "source": [
        "As we can see above, there is an outliers on that bloxpot. This outliers it doesn't need to remove, because its just one outliers.\n",
        "\n",
        "### **KKN Function and Procedures**\n",
        "#### **Euclidian Dist**"
      ]
    },
    {
      "cell_type": "code",
      "metadata": {
        "id": "ZStLt0QRdR7W"
      },
      "source": [
        "def euclidian(criteria, data):\n",
        "  dist = 0\n",
        "  for i in range(len(data)):\n",
        "    dist += (criteria[i] - data[i])**2\n",
        "  return math.sqrt(dist)"
      ],
      "execution_count": 26,
      "outputs": []
    },
    {
      "cell_type": "markdown",
      "metadata": {
        "id": "Chd4V8rJhx1k"
      },
      "source": [
        "#### **Manhattan Dist**"
      ]
    },
    {
      "cell_type": "code",
      "metadata": {
        "id": "Ke4JCFhwh9c3"
      },
      "source": [
        "def manhattan(criteria, data):\n",
        "  dist = 0\n",
        "  for i in range(len(data)):\n",
        "    dist += abs(criteria[i] - data[i])\n",
        "  return dist"
      ],
      "execution_count": 27,
      "outputs": []
    },
    {
      "cell_type": "markdown",
      "metadata": {
        "id": "VcMS1Kg3k0ti"
      },
      "source": [
        "#### **Minkowski Dist**"
      ]
    },
    {
      "cell_type": "code",
      "metadata": {
        "id": "Avw8LWq-k12g"
      },
      "source": [
        "def minkowski(criteria, data, p):\n",
        "  dist = 0\n",
        "  for i in range(len(data)):\n",
        "    dist += abs(criteria[i] - data[i])**p\n",
        "  return dist**(1/p)"
      ],
      "execution_count": 28,
      "outputs": []
    },
    {
      "cell_type": "markdown",
      "metadata": {
        "id": "O6nS6l_FngTf"
      },
      "source": [
        "#### **Supremum Dist**"
      ]
    },
    {
      "cell_type": "code",
      "metadata": {
        "id": "qFrZv4Msnkss"
      },
      "source": [
        "def supremum(criteria, data):\n",
        "  dist = []\n",
        "  for i in range(len(data)):\n",
        "    dist.append(abs(criteria[i] - data[i]))\n",
        "  return max(dist)"
      ],
      "execution_count": 29,
      "outputs": []
    },
    {
      "cell_type": "markdown",
      "metadata": {
        "id": "i-bibA-4xNA3"
      },
      "source": [
        "#### **Get All Distances**"
      ]
    },
    {
      "cell_type": "code",
      "metadata": {
        "id": "9V5HNgyixFUv"
      },
      "source": [
        "def get_distances(df, test_data):\n",
        "  result = {\n",
        "      'euclidian': [],\n",
        "      'manhattan': [],\n",
        "      'minkowski': [],\n",
        "      'supremum': []\n",
        "  }\n",
        "  df_list = (df.copy()).values.tolist()\n",
        "  df_car_new = df.drop(columns=['Nama Mobil'])\n",
        "  data_number = len(df)\n",
        "  for i in range(data_number):\n",
        "    data_temp = df_car_new.iloc[i].tolist()\n",
        "    result['euclidian'].append([df_list[i][0], euclidian(test_data, data_temp)])\n",
        "    result['manhattan'].append([df_list[i][0], manhattan(test_data, data_temp)])\n",
        "    result['minkowski'].append([df_list[i][0], minkowski(test_data, data_temp, 2)]),\n",
        "    result['supremum'].append([df_list[i][0], supremum(test_data, data_temp)])\n",
        "\n",
        "  return result"
      ],
      "execution_count": 30,
      "outputs": []
    },
    {
      "cell_type": "markdown",
      "metadata": {
        "id": "yiVHg6CGR4WL"
      },
      "source": [
        "#### **Get Best Three of Each Distances Rule**"
      ]
    },
    {
      "cell_type": "code",
      "metadata": {
        "id": "gaRvdDc0F-kM"
      },
      "source": [
        "def get_best_three(df_car, data_distances):\n",
        "  copy_distances = copy.deepcopy(data_distances)\n",
        "  copy_distances['euclidian'].sort(key=operator.itemgetter(1), reverse=False)\n",
        "  copy_distances['manhattan'].sort(key=operator.itemgetter(1), reverse=False)\n",
        "  copy_distances['minkowski'].sort(key=operator.itemgetter(1), reverse=False)\n",
        "  copy_distances['supremum'].sort(key=operator.itemgetter(1), reverse=False)\n",
        "\n",
        "  copy_df_car = (df_car.copy()).values.tolist()\n",
        "\n",
        "  best_three = []\n",
        "\n",
        "  for i in range(3):\n",
        "    car_name_eu = copy_distances['euclidian'][i][0]\n",
        "    car_name_ma = copy_distances['manhattan'][i][0]\n",
        "    car_name_mi = copy_distances['minkowski'][i][0]\n",
        "    car_name_su = copy_distances['supremum'][i][0]\n",
        "\n",
        "    eu_value = copy_distances['euclidian'][i][1]\n",
        "    ma_value = copy_distances['manhattan'][i][1]\n",
        "    mi_value = copy_distances['minkowski'][i][1]\n",
        "    su_value = copy_distances['supremum'][i][1]\n",
        "\n",
        "    best_three.append([car_name_eu, eu_value, car_name_ma, ma_value, car_name_mi, mi_value, car_name_su, su_value])\n",
        "\n",
        "  return np.array(best_three)"
      ],
      "execution_count": 31,
      "outputs": []
    },
    {
      "cell_type": "markdown",
      "metadata": {
        "id": "xgwirwqSWGyJ"
      },
      "source": [
        "### **Main Program | Proccess of KNN**\n",
        "#### **Get User Input for Test Data**"
      ]
    },
    {
      "cell_type": "code",
      "metadata": {
        "colab": {
          "base_uri": "https://localhost:8080/"
        },
        "id": "_AYI8xaccWvg",
        "outputId": "1df86777-1b8b-4eec-be1a-d7a21ec5a78a"
      },
      "source": [
        "ukuran = int(input(\"Masukan Ukuran\t\t: \"))\n",
        "kenyamanan = int(input(\"Masukan Kenyamanan\t: \"))\n",
        "irit = int(input(\"Masukan Irit\t\t: \"))\n",
        "kecepatan = float(input(\"Masukan Kecepatan\t: \"))\n",
        "harga = float(input(\"Harga\t\t\t: \"))\n",
        "\n",
        "test_data = [ukuran, kenyamanan, irit, kecepatan, harga]"
      ],
      "execution_count": 32,
      "outputs": [
        {
          "output_type": "stream",
          "text": [
            "Masukan Ukuran\t\t: 3\n",
            "Masukan Kenyamanan\t: 8\n",
            "Masukan Irit\t\t: 5\n",
            "Masukan Kecepatan\t: 10\n",
            "Harga\t\t\t: 2.4\n"
          ],
          "name": "stdout"
        }
      ]
    },
    {
      "cell_type": "markdown",
      "metadata": {
        "id": "gnLzfrY1de5g"
      },
      "source": [
        "#### **Get All Distances & Get Best Three of Each Distances Rule**"
      ]
    },
    {
      "cell_type": "code",
      "metadata": {
        "colab": {
          "base_uri": "https://localhost:8080/",
          "height": 143
        },
        "id": "idp8RS4XSxrP",
        "outputId": "5010763c-34e8-4cc9-abd9-d60b0cea778c"
      },
      "source": [
        "data_distances = get_distances(df_car, test_data)\n",
        "best_three = get_best_three(df_car, data_distances)\n",
        "data_final = pd.DataFrame(best_three, columns=['Euclidian', 'Eu Value', 'Manhattan', 'Ma Value', 'Minkowski', 'Mi Value', 'Supremum', 'Su Value'])\n",
        "data_final\n"
      ],
      "execution_count": 33,
      "outputs": [
        {
          "output_type": "execute_result",
          "data": {
            "text/html": [
              "<div>\n",
              "<style scoped>\n",
              "    .dataframe tbody tr th:only-of-type {\n",
              "        vertical-align: middle;\n",
              "    }\n",
              "\n",
              "    .dataframe tbody tr th {\n",
              "        vertical-align: top;\n",
              "    }\n",
              "\n",
              "    .dataframe thead th {\n",
              "        text-align: right;\n",
              "    }\n",
              "</style>\n",
              "<table border=\"1\" class=\"dataframe\">\n",
              "  <thead>\n",
              "    <tr style=\"text-align: right;\">\n",
              "      <th></th>\n",
              "      <th>Euclidian</th>\n",
              "      <th>Eu Value</th>\n",
              "      <th>Manhattan</th>\n",
              "      <th>Ma Value</th>\n",
              "      <th>Minkowski</th>\n",
              "      <th>Mi Value</th>\n",
              "      <th>Supremum</th>\n",
              "      <th>Su Value</th>\n",
              "    </tr>\n",
              "  </thead>\n",
              "  <tbody>\n",
              "    <tr>\n",
              "      <th>0</th>\n",
              "      <td>Honda City</td>\n",
              "      <td>3.477067730142742</td>\n",
              "      <td>Honda City</td>\n",
              "      <td>6.300000000000001</td>\n",
              "      <td>Honda City</td>\n",
              "      <td>3.477067730142742</td>\n",
              "      <td>Honda City</td>\n",
              "      <td>2.0</td>\n",
              "    </tr>\n",
              "    <tr>\n",
              "      <th>1</th>\n",
              "      <td>Toyota Corolla Altis</td>\n",
              "      <td>4.791659420284375</td>\n",
              "      <td>Toyota Vios</td>\n",
              "      <td>9.1</td>\n",
              "      <td>Toyota Corolla Altis</td>\n",
              "      <td>4.791659420284375</td>\n",
              "      <td>Toyota Corolla Altis</td>\n",
              "      <td>3.6</td>\n",
              "    </tr>\n",
              "    <tr>\n",
              "      <th>2</th>\n",
              "      <td>Toyota Vios</td>\n",
              "      <td>5.000999900019995</td>\n",
              "      <td>Xpander</td>\n",
              "      <td>9.15</td>\n",
              "      <td>Toyota Vios</td>\n",
              "      <td>5.000999900019995</td>\n",
              "      <td>Toyota Agya</td>\n",
              "      <td>4.0</td>\n",
              "    </tr>\n",
              "  </tbody>\n",
              "</table>\n",
              "</div>"
            ],
            "text/plain": [
              "              Euclidian           Eu Value  ...              Supremum Su Value\n",
              "0            Honda City  3.477067730142742  ...            Honda City      2.0\n",
              "1  Toyota Corolla Altis  4.791659420284375  ...  Toyota Corolla Altis      3.6\n",
              "2           Toyota Vios  5.000999900019995  ...           Toyota Agya      4.0\n",
              "\n",
              "[3 rows x 8 columns]"
            ]
          },
          "metadata": {
            "tags": []
          },
          "execution_count": 33
        }
      ]
    },
    {
      "cell_type": "markdown",
      "metadata": {
        "id": "QpX14cW6WjMU"
      },
      "source": [
        "#### **Export to Excel**"
      ]
    },
    {
      "cell_type": "code",
      "metadata": {
        "id": "BXoRLdHSTUSr"
      },
      "source": [
        "file_path = 'rekomendasi.xlsx'\n",
        "    \n",
        "data_final.to_excel(file_path, index=False)"
      ],
      "execution_count": 34,
      "outputs": []
    }
  ]
}